{
 "cells": [
  {
   "cell_type": "markdown",
   "metadata": {},
   "source": [
    "# Monitoria 4"
   ]
  },
  {
   "cell_type": "markdown",
   "metadata": {},
   "source": [
    "**Objetivos de Aprendizado:**\n",
    "\n",
    "- Revisar a diferença entre `print` e `return`.\n",
    "- Implementar e entender o método da bissecção.\n",
    "- Ver algumas aplicações do método da bissecção."
   ]
  },
  {
   "cell_type": "markdown",
   "metadata": {},
   "source": [
    "## `print` *versus* `return`"
   ]
  },
  {
   "cell_type": "markdown",
   "metadata": {},
   "source": [
    "É importante que tenhamos clareza quanto à diferença entre essas duas coisas. Tipicamente, usamos `print` quando **desejamos imprimir determinado resultado na tela**. Jupyter Notebooks são particularmente ruins para assinalar este ponto, pois eles dão a falsa sensação de que uma expressão `print` nunca é necessária. Exemplo:"
   ]
  },
  {
   "cell_type": "code",
   "execution_count": 1,
   "metadata": {
    "scrolled": true
   },
   "outputs": [
    {
     "data": {
      "text/plain": [
       "'Free Julian Assange!'"
      ]
     },
     "execution_count": 1,
     "metadata": {},
     "output_type": "execute_result"
    }
   ],
   "source": [
    "\"Free Julian Assange!\""
   ]
  },
  {
   "cell_type": "code",
   "execution_count": 2,
   "metadata": {
    "scrolled": true
   },
   "outputs": [
    {
     "name": "stdout",
     "output_type": "stream",
     "text": [
      "Free Julian Assange!\n"
     ]
    }
   ],
   "source": [
    "print(\"Free Julian Assange!\")"
   ]
  },
  {
   "cell_type": "markdown",
   "metadata": {},
   "source": [
    "Em certas situações, quando estamos escrevendo funções, gostaríamos de que elas **retornassem** um objeto ao final da execução. Em tais situações, usamos uma expressão `return`. Exemplo:"
   ]
  },
  {
   "cell_type": "code",
   "execution_count": null,
   "metadata": {},
   "outputs": [],
   "source": [
    "def even(n):\n",
    "    \n",
    "    \"\"\"\n",
    "    Indicator function defined on the set of even integers.\n",
    "    \n",
    "    **Returns** True if an even input is given, False otherwise.\n",
    "    \n",
    "    Parameters:\n",
    "    \n",
    "    n: an int object\n",
    "    \"\"\"\n",
    "    \n",
    "    if (n % 2 == 0):\n",
    "        \n",
    "        return True\n",
    "        \n",
    "    else:\n",
    "        \n",
    "        return False"
   ]
  },
  {
   "cell_type": "code",
   "execution_count": null,
   "metadata": {},
   "outputs": [],
   "source": [
    "even(42)"
   ]
  },
  {
   "cell_type": "code",
   "execution_count": null,
   "metadata": {},
   "outputs": [],
   "source": [
    "type(even(42))"
   ]
  },
  {
   "cell_type": "code",
   "execution_count": null,
   "metadata": {},
   "outputs": [],
   "source": [
    "even(42) == True"
   ]
  },
  {
   "cell_type": "markdown",
   "metadata": {},
   "source": [
    "Vamos tentar tornar a diferença entre essas coisas mais clara modificando a nossa função."
   ]
  },
  {
   "cell_type": "code",
   "execution_count": null,
   "metadata": {},
   "outputs": [],
   "source": [
    "def even(n):\n",
    "    \n",
    "    \"\"\"\n",
    "    Indicator function defined on the set of even integers.\n",
    "    \n",
    "    **Returns** True if an even input is given, False otherwise.\n",
    "    \n",
    "    Parameters:\n",
    "    \n",
    "    n: an int object\n",
    "    \"\"\"\n",
    "    \n",
    "    if (n % 2 == 0):\n",
    "        \n",
    "        print(\"True\")\n",
    "    \n",
    "    else:\n",
    "        \n",
    "        print(\"False\")"
   ]
  },
  {
   "cell_type": "code",
   "execution_count": null,
   "metadata": {},
   "outputs": [],
   "source": [
    "even(42)"
   ]
  },
  {
   "cell_type": "code",
   "execution_count": null,
   "metadata": {},
   "outputs": [],
   "source": [
    "type(even(42)) #A função não retorna coisa alguma; o tipo do resultado é NoneType!"
   ]
  },
  {
   "cell_type": "markdown",
   "metadata": {},
   "source": [
    "Finalmente:"
   ]
  },
  {
   "cell_type": "code",
   "execution_count": null,
   "metadata": {},
   "outputs": [],
   "source": [
    "def even(n):\n",
    "    \n",
    "    \"\"\"\n",
    "    Indicator function defined on the set of even integers.\n",
    "    \n",
    "    **Returns** True if an even input is given, False otherwise.\n",
    "    \n",
    "    Parameters:\n",
    "    \n",
    "    n: an int object\n",
    "    \"\"\"\n",
    "    \n",
    "    if (n % 2 == 0):\n",
    "        \n",
    "        return \"True\"\n",
    "    \n",
    "    else:\n",
    "        \n",
    "        return \"False\""
   ]
  },
  {
   "cell_type": "code",
   "execution_count": null,
   "metadata": {},
   "outputs": [],
   "source": [
    "even(42)"
   ]
  },
  {
   "cell_type": "code",
   "execution_count": null,
   "metadata": {},
   "outputs": [],
   "source": [
    "type(even(42)) #A função retorna uma string!"
   ]
  },
  {
   "cell_type": "code",
   "execution_count": null,
   "metadata": {
    "scrolled": true
   },
   "outputs": [],
   "source": [
    "even(42)[0] #Consigo até mesmo acessar caracteres dessa string!"
   ]
  },
  {
   "cell_type": "markdown",
   "metadata": {},
   "source": [
    "## O Método da Bissecção"
   ]
  },
  {
   "cell_type": "markdown",
   "metadata": {},
   "source": [
    "Evidentemente, existe mais de uma maneira de se discutir este algoritmo. Vou discutí-lo no seguinte contexto: temos uma aplicação $f: A \\subset \\mathbb{R} \\to \\mathbb{R}$, e desejamos computar um de seus zeros, ou seja, desejamos encontrar um ponto $c \\in [a, b]$ tal que:\n",
    "\n",
    "$$f(c) = 0.$$\n",
    "\n",
    "A equação acima **nem sempre tem solução!** Basta tomarmos $A = (0, 1)$ e definirmos $f$ pondo $f(x) = x$, para todo $x \\in (0, 1)$.\n",
    "\n",
    "**Existência.** O exemplo acima motiva o seguinte princípio: quando estamos discutindo um conjunto qualquer, devemos **sempre** avaliar se o conjunto é vazio ou não. Em particular, quando estamos discutindo o conjunto de soluções de uma equação, precisamos entender sob quais condições o conjunto é não-vazio.\n",
    "\n",
    "No contexto de soluções à equação $f(c) = 0$, o **Teorema do Valor Intermediário** nos providência condições suficientes para existência:\n",
    "\n",
    "**Teorema.** Se $f: [a, b] \\to \\mathbb{R}$ for uma aplicação contínua em $[a, b]$ e satisfizer $f(a) < k < f(b)$, onde $k$ é um número real qualquer, então existirá $c \\in (a, b)$ tal que $f(c) = k$. Idem se $f(a) > k > f(b)$.\n",
    "\n",
    "**Demonstração.** Veja o Apêndice.\n",
    "\n",
    "**Corolário.** Se $f: [a, b] \\to \\mathbb{R}$ for uma aplicação contínua em $[a, b]$ e satisfizer $f(a) \\cdot f(b) < 0$, então existirá $c \\in (a, b)$ tal que $f(c) = 0$.\n",
    "\n",
    "**Unicidade.** O que o Teorema acima *não* nos garante é a unicidade da solução. De fato, pode haver mais de um zero em $(a, b)$. O que o nosso algoritmo consegue fazer é selecionar *um* zero. Com um pouco de refinamento, é possível melhorar isso, mas por ora restringiremos nossa atenção a computar *um* zero, e daremo-nos por satisfeitos se conseguirmos.\n",
    "\n",
    "**Motivação.** Suponhamos que nossa função é $f: [0, 1] \\to \\mathbb{R}$ dada por $f(x) = x - \\frac{1}{4}$. Já sabemos de antemão que $x = \\frac{1}{4}$ é um zero, mas vamos entender o que o algoritmo da bissecção faz para chegar a este número.\n",
    "\n",
    "- Divido o domínio em dois pedaços de igual comprimento: $[0, \\frac{1}{2}]$ e $[\\frac{1}{2}, 1]$.\n",
    "- Vejo se $\\frac{1}{2}$ é um zero. Se for, paro e **retorno** $\\frac{1}{2}$; caso contrário, continuo.\n",
    "- Verifico se o sinal de $f$ varia em $[0, \\frac{1}{2}]$ ou em $[\\frac{1}{2}, 1]$. (Note que $f$ é sempre positiva no segundo intervalo, mas que $f(\\frac{1}{2}) \\cdot f(0) < 0$. Passo a procurar o zero apenas no intervalo onde $f$ troca de sinal.\n",
    "- Repito até achar um zero, contanto que eu não tenha repetido esses passos um número estúpido de vezes. Outra condição de parada é que meu intervalo de busca se reduza a pó (Teorema dos Intervalos Encaixantes). Vamos repetir pra ilustrar. Um número estúpido é bem mais baixo pr'um ser humano do que pr'um computador mais potente.\n",
    "- Nova divisão gera $[0, \\frac{1}{4}]$ e $[\\frac{1}{4}, \\frac{1}{2}]$. Por sorte, $\\frac{1}{4}$ é um zero, então parao e retorno $\\frac{1}{4}$.\n",
    "\n",
    "Como estender esse raciocínio? Veja abaixo."
   ]
  },
  {
   "cell_type": "code",
   "execution_count": 4,
   "metadata": {},
   "outputs": [],
   "source": [
    "import numpy as np"
   ]
  },
  {
   "cell_type": "code",
   "execution_count": 5,
   "metadata": {},
   "outputs": [],
   "source": [
    "def bisect(func, a, b, eps=1e-6, maxiter=1e2):\n",
    "    \n",
    "    \"\"\"\n",
    "    Implements the bisection method.\n",
    "    \n",
    "    Parameters:\n",
    "    \n",
    "    func: a (real) function\n",
    "    \n",
    "    a, b: extremities of the interval where func is defined, floats\n",
    "    \n",
    "    Options:\n",
    "    \n",
    "    eps: tolerance margin for the approximation error\n",
    "    \n",
    "    maxiter: maximal number of iterations\n",
    "\n",
    "    \"\"\"\n",
    "    \n",
    "    i = 0\n",
    "    \n",
    "    while (i < maxiter):\n",
    "        \n",
    "        c = (a + b) / 2\n",
    "        \n",
    "        #print(c)\n",
    "        \n",
    "        if (func(c) == 0) or ((b - a) / 2 < eps):\n",
    "            \n",
    "            return c\n",
    "        \n",
    "        if (np.sign(func(a)) == np.sign(func(c))):\n",
    "            \n",
    "            a = c #Fica com intervalo da direita.\n",
    "            \n",
    "        else:\n",
    "            \n",
    "            b = c #Fica com intervalo da esquerda."
   ]
  },
  {
   "cell_type": "markdown",
   "metadata": {},
   "source": [
    "No exemplo simples (até mesmo pr'um computador ruinzinho, como eu), temos:"
   ]
  },
  {
   "cell_type": "code",
   "execution_count": null,
   "metadata": {},
   "outputs": [],
   "source": [
    "bisect(lambda x: x - 0.25, 0, 1)"
   ]
  },
  {
   "cell_type": "markdown",
   "metadata": {},
   "source": [
    "Podemos pensar em exemplos mais sofisticados também! Considere as aplicações $f: [0, 5] \\to \\mathbb{R}$ e $g: [0, 2] \\to \\mathbb{R}$ dadas por:\n",
    "\n",
    "- $f(x) = \\cos(2 \\pi x) \\cdot \\exp(-x)$\n",
    "- $g(x) = \\cos(2 \\pi x)$\n",
    "\n",
    "As duas são evidentemente contínuas, pois resultam da composição de funções contínuas.\n",
    "\n",
    "Se quiser, pode imaginar que elas descrevem a trajetória de uma variável econômica ao longo de 2, ou 5 anos."
   ]
  },
  {
   "cell_type": "code",
   "execution_count": 6,
   "metadata": {},
   "outputs": [
    {
     "data": {
      "image/png": "[encoded data removed]",
      "text/plain": [
       "<Figure size 432x288 with 2 Axes>"
      ]
     },
     "metadata": {
      "needs_background": "light"
     },
     "output_type": "display_data"
    }
   ],
   "source": [
    "import matplotlib.pyplot as plt\n",
    "\n",
    "xf = np.linspace(0.0, 5.0)\n",
    "xg = np.linspace(0.0, 2.0)\n",
    "\n",
    "yf = np.cos(2 * np.pi * xf) * np.exp(-xf) #Recall that np functions are typically vectorized!\n",
    "yg = np.cos(2 * np.pi * xf) #Id.\n",
    "\n",
    "fig, (ax1, ax2) = plt.subplots(2, 1) #2 plots, 1 column\n",
    "fig.suptitle(\"Exemplos Não Triviais\")\n",
    "\n",
    "ax1.plot(xf, yf, 'r--')\n",
    "ax1.set_ylabel(\"f(x)\")\n",
    "\n",
    "ax2.plot(xg, yg, 'b--')\n",
    "ax2.set_ylabel('g(x)')\n",
    "\n",
    "plt.show()"
   ]
  },
  {
   "cell_type": "code",
   "execution_count": 7,
   "metadata": {},
   "outputs": [
    {
     "data": {
      "text/plain": [
       "2.2499996423721313"
      ]
     },
     "execution_count": 7,
     "metadata": {},
     "output_type": "execute_result"
    }
   ],
   "source": [
    "bisect(lambda x: np.cos(2 * np.pi * x) * np.exp(-x), 0, 5)"
   ]
  },
  {
   "cell_type": "code",
   "execution_count": 8,
   "metadata": {},
   "outputs": [
    {
     "data": {
      "text/plain": [
       "2.3683658704479627e-07"
      ]
     },
     "execution_count": 8,
     "metadata": {},
     "output_type": "execute_result"
    }
   ],
   "source": [
    "np.cos(2 * np.pi * 2.2499996423721313) * np.exp(-2.2499996423721313) #\"Numericamente\" zero."
   ]
  },
  {
   "cell_type": "code",
   "execution_count": 9,
   "metadata": {},
   "outputs": [
    {
     "data": {
      "text/plain": [
       "1.2500009536743164"
      ]
     },
     "execution_count": 9,
     "metadata": {},
     "output_type": "execute_result"
    }
   ],
   "source": [
    "bisect(lambda x: np.cos(2 * np.pi * x), 0, 2)"
   ]
  },
  {
   "cell_type": "code",
   "execution_count": 10,
   "metadata": {},
   "outputs": [
    {
     "data": {
      "text/plain": [
       "-5.992112452104443e-06"
      ]
     },
     "execution_count": 10,
     "metadata": {},
     "output_type": "execute_result"
    }
   ],
   "source": [
    "np.cos(2 * np.pi * 1.2500009536743164) #\"Numericamente\" zero.1.2500009536743164"
   ]
  },
  {
   "cell_type": "markdown",
   "metadata": {},
   "source": [
    "## Outras Aplicações"
   ]
  },
  {
   "cell_type": "markdown",
   "metadata": {},
   "source": [
    "Com um pouco de sagacidade algébrica, podemos conjurar duas outras aplicações para o método da bissecção, notadamente:\n",
    "\n",
    "- Busca por pontos fixos.\n",
    "- Cálculo de raízes $n-$ésimas."
   ]
  },
  {
   "cell_type": "markdown",
   "metadata": {},
   "source": [
    "### Pontos Fixos\n",
    "\n",
    "Seja $\\sigma: \\mathcal{S} \\to \\mathcal{S}$ uma aplicação qualquer. Dizemos que $F \\in S$ é um ponto fixo de $\\sigma$ quando $\\sigma(F) \\in F$. No contexto mais simples de funções reais a valores reais, dizemos que $F \\in \\mathcal{S}$ é um ponto fixo de $\\sigma$ quando for $\\sigma(F) = F$.\n",
    "\n",
    "Boa parte dos teoremas que fundamentam a Teoria dos Jogos (e modelos de equilíbrio geral) são teoremas de existência e unicidade de ponto fixo. Um dos teoremas mais úteis pode ser enunciado de maneira bastante simples no caso unidimensional:\n",
    "\n",
    "**Teorema (do Ponto Fixo de Brouwer, *for babies*).** Se $f: [0, 1] \\to [0, 1]$ for uma aplicação contínua, então $f$ admitirá ao menos um ponto fixo.\n",
    "\n",
    "**Demonstração.** Ver Problema 2, item (d), Lista 2.\n",
    "\n",
    "Ora, com isto em mente, podemos considerar aplicações contínuas da forma $f: [0, 1] \\to [0, 1]$ e pensarmos, então, na seguinte transformação: $h: [0, 1] \\to [0, 1]$ dada por $h(x) = f(x) - x$. Note que computar um zero de $h$ equivale a computar um ponto fixo de $f$!"
   ]
  },
  {
   "cell_type": "markdown",
   "metadata": {},
   "source": [
    "**Exemplo.** Encontre um ponto fixo da aplicação $f: [0, 1] \\to [0, 1]$ dada por $f(x) = \\frac{1}{1+x}$."
   ]
  },
  {
   "cell_type": "code",
   "execution_count": 11,
   "metadata": {},
   "outputs": [
    {
     "data": {
      "text/plain": [
       "0.6180334091186523"
      ]
     },
     "execution_count": 11,
     "metadata": {},
     "output_type": "execute_result"
    }
   ],
   "source": [
    "bisect(lambda x: (1 / (1+x)) - x, 0, 1)"
   ]
  },
  {
   "cell_type": "code",
   "execution_count": 12,
   "metadata": {},
   "outputs": [
    {
     "data": {
      "text/plain": [
       "0.6180342101494078"
      ]
     },
     "execution_count": 12,
     "metadata": {},
     "output_type": "execute_result"
    }
   ],
   "source": [
    "1 / (1 + 0.6180334091186523)"
   ]
  },
  {
   "cell_type": "markdown",
   "metadata": {},
   "source": [
    "Note que nem sempre $f(x) - x$ troca de sinal em (0, 1)! Se mantiver o sinal $(0, 1)$, basta testarmos $x = 0$ e $x = 1$ separadamente."
   ]
  },
  {
   "cell_type": "markdown",
   "metadata": {},
   "source": [
    "### Raízes $n-$ésimas"
   ]
  },
  {
   "cell_type": "markdown",
   "metadata": {},
   "source": [
    "O mesmo raciocínio que usamos para computar pontos fixos se aplica ao cálculo de raízes $n-$ésimas. Deixando o formalismo de lado por enquanto, vamos tentar calcular uma das raízes cúbicas de 27. Ora, podemos tomar $x^3 - 27$, e aplicarmos o algoritmo da bissecção a esta função."
   ]
  },
  {
   "cell_type": "code",
   "execution_count": 13,
   "metadata": {},
   "outputs": [
    {
     "data": {
      "text/plain": [
       "[<matplotlib.lines.Line2D at 0x7f96b1fe6700>]"
      ]
     },
     "execution_count": 13,
     "metadata": {},
     "output_type": "execute_result"
    },
    {
     "data": {
      "image/png": "[encoded data removed]",
      "text/plain": [
       "<Figure size 432x288 with 1 Axes>"
      ]
     },
     "metadata": {
      "needs_background": "light"
     },
     "output_type": "display_data"
    }
   ],
   "source": [
    "x = np.linspace(-5, 5)\n",
    "\n",
    "plt.plot(x, x ** 3 - 27)"
   ]
  },
  {
   "cell_type": "code",
   "execution_count": 14,
   "metadata": {},
   "outputs": [
    {
     "data": {
      "text/plain": [
       "3.0000001192092896"
      ]
     },
     "execution_count": 14,
     "metadata": {},
     "output_type": "execute_result"
    }
   ],
   "source": [
    "bisect(lambda x: x ** 3 - 27, -5, 5)"
   ]
  },
  {
   "cell_type": "code",
   "execution_count": 15,
   "metadata": {},
   "outputs": [
    {
     "data": {
      "text/plain": [
       "3.218650945768786e-06"
      ]
     },
     "execution_count": 15,
     "metadata": {},
     "output_type": "execute_result"
    }
   ],
   "source": [
    "3.0000001192092896 ** 3 - 27 #Numericamente zero."
   ]
  },
  {
   "cell_type": "markdown",
   "metadata": {},
   "source": [
    "## Apêndice\n",
    "\n",
    "**Demonstração do Teorema do Valor Intermediário.** Ponhamos $L \\equiv \\{x \\in [a, b]: f(x) \\leq k\\}$. Claro que $L \\neq \\emptyset$, pois $a$ pertence a $L$ por hipótese. $L$ é também limitado superiormente (por $b$). Então existe $c \\equiv \\sup L$ (pois $\\mathbb{R}$ é um corpo ordenado completo).\n",
    "\n",
    "Seja $\\{x_n\\}_{n \\geq 1}$ uma sequência de pontos de $L$ convergente com limite $c$. Temos $f(x_n) \\leq k$ para todo inteiro positivo $n$ e, como $f$ foi suposta contínua, segue que $f(x_n) \\to f(c)$. Logo $f(c) \\leq k$ e, portanto, $c < b$.\n",
    "\n",
    "Suponhamos por absurdo que fosse $f(c) < k$. Então existe um $\\delta > 0$ tal que $x \\in [a, b]$ e $|x - c| < \\delta$ implicam $f(x) < k$ (aqui, usamos o lema da permanência do sinal). Como $c < b$, é possível escolhermos $c < x < c + \\delta$ para obtermos $f(x) < k$. Segue que $x \\in L$ e $x > c = \\sup L$, uma contradição. Somos então forçados a concluir que se tem $f(c) = k$."
   ]
  }
 ],
 "metadata": {
  "kernelspec": {
   "display_name": "Python 3",
   "language": "python",
   "name": "python3"
  },
  "language_info": {
   "codemirror_mode": {
    "name": "ipython",
    "version": 3
   },
   "file_extension": ".py",
   "mimetype": "text/x-python",
   "name": "python",
   "nbconvert_exporter": "python",
   "pygments_lexer": "ipython3",
   "version": "3.8.3"
  }
 },
 "nbformat": 4,
 "nbformat_minor": 4
}
