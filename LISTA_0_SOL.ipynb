{
 "cells": [
  {
   "cell_type": "markdown",
   "metadata": {},
   "source": [
    "# Lista 0: Soluções"
   ]
  },
  {
   "cell_type": "markdown",
   "metadata": {},
   "source": [
    "#### Observações:\n",
    "\n",
    "A solução dos problemas 1 (a) e 2 (a) já estão disponíveis na forma de _slides_.\n",
    "\n",
    "Há um erro no enunciado do problema 2 -- quero que vocês mostrem que a série $\\sum_{t \\geq 1} \\beta^{t}$ converge com limite $\\frac{1}{1-\\beta}$ sempre que $0 \\leq \\beta \\leq 1$. A sequência dos $\\beta^{t}$ também converge, mas não para este limite, e sim para 0. Peço desculpas pelo inconveniente."
   ]
  },
  {
   "cell_type": "markdown",
   "metadata": {},
   "source": [
    "### Problema 1 (b)\n",
    "\n",
    "A ideia é bastante simples: se você fornecer a sequência de instruções deste item a um computador com orçamento ilimitado, os passos 2-4 formam um _loop_ infinito, isto é, não há uma regra de parada bem-definida. Logo, a sequência de instruções do item (b) **não** é um algoritmo.\n",
    "\n",
    "Evidentemente, se você fornecesse essas mesmas instruções a um ser humano com orçamento limitado, ele pararia por livre e espontânea vontade -- coisa que computadores não têm."
   ]
  },
  {
   "cell_type": "markdown",
   "metadata": {},
   "source": [
    "### Problema 2 (a)\n",
    "\n",
    "É condição suficiente para que não haja erros de sintaxe que uma célula de código seja executada sem que o interpretador levante erros."
   ]
  },
  {
   "cell_type": "code",
   "execution_count": 1,
   "metadata": {},
   "outputs": [
    {
     "data": {
      "text/plain": [
       "False"
      ]
     },
     "execution_count": 1,
     "metadata": {},
     "output_type": "execute_result"
    }
   ],
   "source": [
    "#Sintatica e estático-semanticamente correta...\n",
    "#... foi executada sem erros e faz sentido comparar números inteiros.\n",
    "\n",
    "2 + 2 == 5"
   ]
  },
  {
   "cell_type": "code",
   "execution_count": 2,
   "metadata": {},
   "outputs": [
    {
     "data": {
      "text/plain": [
       "'MeowMeowMeowMeowMeowMeowMeowMeowMeowMeowMeowMeowMeowMeowMeowMeowMeowMeowMeowMeowMeowMeowMeowMeowMeowMeowMeowMeowMeowMeowMeowMeowMeowMeowMeowMeowMeowMeowMeowMeowMeowMeow'"
      ]
     },
     "execution_count": 2,
     "metadata": {},
     "output_type": "execute_result"
    }
   ],
   "source": [
    "#Sintatica e estático-semanticamente correta...\n",
    "#... foi executada sem erros e faz sentido repetir uma string um número inteiro de vezes.\n",
    "\n",
    "x = 42\n",
    "y = \"Meow\"\n",
    "\n",
    "x * y"
   ]
  },
  {
   "cell_type": "code",
   "execution_count": 3,
   "metadata": {},
   "outputs": [],
   "source": [
    "#Sintatica e estático-semanticamente correta...\n",
    "#... foi executada sem erros (mais ainda, a sintaxe variavel-método-variável é respeitada)...\n",
    "#... e faz sentido incluir uma lista como elemento de outra lista (em particular, de si mesma).\n",
    "\n",
    "v = []\n",
    "v.append(v)"
   ]
  },
  {
   "cell_type": "code",
   "execution_count": 4,
   "metadata": {},
   "outputs": [
    {
     "ename": "AttributeError",
     "evalue": "'tuple' object has no attribute 'append'",
     "output_type": "error",
     "traceback": [
      "\u001b[0;31m---------------------------------------------------------------------------\u001b[0m",
      "\u001b[0;31mAttributeError\u001b[0m                            Traceback (most recent call last)",
      "\u001b[0;32m<ipython-input-4-495c1f7ae265>\u001b[0m in \u001b[0;36m<module>\u001b[0;34m\u001b[0m\n\u001b[1;32m      4\u001b[0m \u001b[0;34m\u001b[0m\u001b[0m\n\u001b[1;32m      5\u001b[0m \u001b[0mt\u001b[0m \u001b[0;34m=\u001b[0m \u001b[0;34m(\u001b[0m\u001b[0;36m0\u001b[0m\u001b[0;34m,\u001b[0m\u001b[0;36m1\u001b[0m\u001b[0;34m,\u001b[0m\u001b[0;36m1\u001b[0m\u001b[0;34m,\u001b[0m\u001b[0;36m0\u001b[0m\u001b[0;34m,\u001b[0m\u001b[0;36m1\u001b[0m\u001b[0;34m,\u001b[0m\u001b[0;36m1\u001b[0m\u001b[0;34m,\u001b[0m\u001b[0;36m0\u001b[0m\u001b[0;34m,\u001b[0m\u001b[0;36m0\u001b[0m\u001b[0;34m)\u001b[0m\u001b[0;34m\u001b[0m\u001b[0;34m\u001b[0m\u001b[0m\n\u001b[0;32m----> 6\u001b[0;31m \u001b[0mt\u001b[0m\u001b[0;34m.\u001b[0m\u001b[0mappend\u001b[0m\u001b[0;34m(\u001b[0m\u001b[0;36m1\u001b[0m\u001b[0;34m)\u001b[0m\u001b[0;34m\u001b[0m\u001b[0;34m\u001b[0m\u001b[0m\n\u001b[0m",
      "\u001b[0;31mAttributeError\u001b[0m: 'tuple' object has no attribute 'append'"
     ]
    }
   ],
   "source": [
    "#Sintaticamente correta! A sintaxe variável-método-inteiro é respeitada...\n",
    "#... mas não faz sentido tentar alterar uma tupla, que é por construção imutável...\n",
    "#... logo, há um erro estático-semântico.\n",
    "\n",
    "t = (0,1,1,0,1,1,0,0)\n",
    "t.append(1)"
   ]
  },
  {
   "cell_type": "code",
   "execution_count": 5,
   "metadata": {},
   "outputs": [
    {
     "ename": "TypeError",
     "evalue": "unsupported operand type(s) for +: 'int' and 'str'",
     "output_type": "error",
     "traceback": [
      "\u001b[0;31m---------------------------------------------------------------------------\u001b[0m",
      "\u001b[0;31mTypeError\u001b[0m                                 Traceback (most recent call last)",
      "\u001b[0;32m<ipython-input-5-57cb0cc0fcb6>\u001b[0m in \u001b[0;36m<module>\u001b[0;34m\u001b[0m\n\u001b[1;32m      3\u001b[0m \u001b[0;31m#... logo, há um erro estático-semântico.\u001b[0m\u001b[0;34m\u001b[0m\u001b[0;34m\u001b[0m\u001b[0;34m\u001b[0m\u001b[0m\n\u001b[1;32m      4\u001b[0m \u001b[0;34m\u001b[0m\u001b[0m\n\u001b[0;32m----> 5\u001b[0;31m \u001b[0;36m3\u001b[0m \u001b[0;34m+\u001b[0m \u001b[0;34m\"Meow\"\u001b[0m\u001b[0;34m\u001b[0m\u001b[0;34m\u001b[0m\u001b[0m\n\u001b[0m",
      "\u001b[0;31mTypeError\u001b[0m: unsupported operand type(s) for +: 'int' and 'str'"
     ]
    }
   ],
   "source": [
    "#Sintaticamente correta! A sintaxe objeto-operador infixo-objeto foi respeitada...\n",
    "#... mas não faz sentido somar objetos numéricos a objetos não-numéricos...\n",
    "#... logo, há um erro estático-semântico.\n",
    "\n",
    "3 + \"Meow\""
   ]
  },
  {
   "cell_type": "code",
   "execution_count": 6,
   "metadata": {},
   "outputs": [
    {
     "ename": "SyntaxError",
     "evalue": "invalid syntax (<ipython-input-6-c49d2e077483>, line 5)",
     "output_type": "error",
     "traceback": [
      "\u001b[0;36m  File \u001b[0;32m\"<ipython-input-6-c49d2e077483>\"\u001b[0;36m, line \u001b[0;32m5\u001b[0m\n\u001b[0;31m    0++\u001b[0m\n\u001b[0m       ^\u001b[0m\n\u001b[0;31mSyntaxError\u001b[0m\u001b[0;31m:\u001b[0m invalid syntax\n"
     ]
    }
   ],
   "source": [
    "#Sintaticamente incorreta: a sintaxe objeto-operador infixo-operador infixo não existe em Python...\n",
    "#... e nem faz sentido esse tipo de expressão na linguagem -- para incrementar um número, usamos...\n",
    "#... o operador +=, por exemplo. Logo, há um erro estático-semântico também.\n",
    "\n",
    "0++"
   ]
  },
  {
   "cell_type": "markdown",
   "metadata": {},
   "source": [
    "### Problema 2 (b)"
   ]
  },
  {
   "cell_type": "code",
   "execution_count": 7,
   "metadata": {},
   "outputs": [
    {
     "data": {
      "text/plain": [
       "int"
      ]
     },
     "execution_count": 7,
     "metadata": {},
     "output_type": "execute_result"
    }
   ],
   "source": [
    "type(42)"
   ]
  },
  {
   "cell_type": "code",
   "execution_count": 8,
   "metadata": {},
   "outputs": [
    {
     "data": {
      "text/plain": [
       "float"
      ]
     },
     "execution_count": 8,
     "metadata": {},
     "output_type": "execute_result"
    }
   ],
   "source": [
    "type(42.0)"
   ]
  },
  {
   "cell_type": "code",
   "execution_count": 9,
   "metadata": {},
   "outputs": [
    {
     "data": {
      "text/plain": [
       "float"
      ]
     },
     "execution_count": 9,
     "metadata": {},
     "output_type": "execute_result"
    }
   ],
   "source": [
    "type(42/2) #Note que float/int é um float."
   ]
  },
  {
   "cell_type": "code",
   "execution_count": 10,
   "metadata": {},
   "outputs": [
    {
     "data": {
      "text/plain": [
       "float"
      ]
     },
     "execution_count": 10,
     "metadata": {},
     "output_type": "execute_result"
    }
   ],
   "source": [
    "type(2 + 2.0) #Note que int + float é um float."
   ]
  },
  {
   "cell_type": "code",
   "execution_count": 11,
   "metadata": {},
   "outputs": [
    {
     "data": {
      "text/plain": [
       "str"
      ]
     },
     "execution_count": 11,
     "metadata": {},
     "output_type": "execute_result"
    }
   ],
   "source": [
    "type('And Now For Something Completely Different')"
   ]
  },
  {
   "cell_type": "code",
   "execution_count": 12,
   "metadata": {},
   "outputs": [
    {
     "data": {
      "text/plain": [
       "bool"
      ]
     },
     "execution_count": 12,
     "metadata": {},
     "output_type": "execute_result"
    }
   ],
   "source": [
    "type(1 > 0)"
   ]
  },
  {
   "cell_type": "code",
   "execution_count": 13,
   "metadata": {},
   "outputs": [
    {
     "data": {
      "text/plain": [
       "bool"
      ]
     },
     "execution_count": 13,
     "metadata": {},
     "output_type": "execute_result"
    }
   ],
   "source": [
    "type(0 == []) #Valor da expressão interna é False, mas rigorosamente poderia ser verdadeiro."
   ]
  },
  {
   "cell_type": "code",
   "execution_count": 14,
   "metadata": {},
   "outputs": [
    {
     "data": {
      "text/plain": [
       "str"
      ]
     },
     "execution_count": 14,
     "metadata": {},
     "output_type": "execute_result"
    }
   ],
   "source": [
    "type(2 * 'Tchau') #Note que int * str é uma string."
   ]
  },
  {
   "cell_type": "code",
   "execution_count": 15,
   "metadata": {},
   "outputs": [
    {
     "data": {
      "text/plain": [
       "bool"
      ]
     },
     "execution_count": 15,
     "metadata": {},
     "output_type": "execute_result"
    }
   ],
   "source": [
    "type(True == 1) #Vide video sugerido para uma explicação."
   ]
  },
  {
   "cell_type": "code",
   "execution_count": 16,
   "metadata": {},
   "outputs": [
    {
     "data": {
      "text/plain": [
       "list"
      ]
     },
     "execution_count": 16,
     "metadata": {},
     "output_type": "execute_result"
    }
   ],
   "source": [
    "type([1, 2] + [3, 4]) #Retorna lista estendida, não uma soma elemento a elemento!"
   ]
  },
  {
   "cell_type": "code",
   "execution_count": 17,
   "metadata": {},
   "outputs": [
    {
     "data": {
      "text/plain": [
       "tuple"
      ]
     },
     "execution_count": 17,
     "metadata": {},
     "output_type": "execute_result"
    }
   ],
   "source": [
    "type((1, 2) + (3, 4)) #Idem! E note que não há erro, pois cria-se um novo objeto."
   ]
  },
  {
   "cell_type": "markdown",
   "metadata": {},
   "source": [
    "### Problema 2 (c)"
   ]
  },
  {
   "cell_type": "markdown",
   "metadata": {},
   "source": [
    "#### Parte 2\n",
    "\n",
    "Basta notarmos que a série dada por:\n",
    "\n",
    "$$\\sum_{t \\geq 1} \\left(\\frac{y}{1+r}\\right)^{t}$$\n",
    "\n",
    "Com $y = 1$ é geométrica com $\\beta = \\frac{1}{1+r}$. Logo, ela converge com limite:\n",
    "\n",
    "$$\\frac{1}{\\left(1 - \\frac{1}{1+r}\\right)} = \\frac{1+r}{r},$$\n",
    "\n",
    "que será o valor presente descontado do ativo de interesse (no caso infinito)."
   ]
  },
  {
   "cell_type": "markdown",
   "metadata": {},
   "source": [
    "#### Parte 3\n",
    "\n",
    "No caso finito, não precisamos complicar as coisas com fórmulas... basta usar o poder computacional."
   ]
  },
  {
   "cell_type": "code",
   "execution_count": 18,
   "metadata": {},
   "outputs": [
    {
     "name": "stdout",
     "output_type": "stream",
     "text": [
      "O valor presente líquido do ativo com T = 100 e r = 0.1 é 10.999274342840984 reais.\n"
     ]
    }
   ],
   "source": [
    "y, r, T = 1, 0.1, 100\n",
    "\n",
    "R = [y / (1+r) ** t for t in range(0, T+1)]\n",
    "\n",
    "npv_f = sum(R)\n",
    "\n",
    "print(f'O valor presente líquido do ativo com T = {T} e r = {r} é {npv_f} reais.')"
   ]
  },
  {
   "cell_type": "markdown",
   "metadata": {},
   "source": [
    "No caso infinito, basta aplicarmos a fórmula obtida anteriormente."
   ]
  },
  {
   "cell_type": "code",
   "execution_count": 19,
   "metadata": {},
   "outputs": [
    {
     "name": "stdout",
     "output_type": "stream",
     "text": [
      "O valor presente líquido do ativo com maturidade arbitrariamente grande a r = 0.1 é 11.0 reais.\n"
     ]
    }
   ],
   "source": [
    "npv_inf = (1 + r) / r\n",
    "\n",
    "print(f'O valor presente líquido do ativo com maturidade arbitrariamente grande a r = {r} é {npv_inf} reais.')"
   ]
  },
  {
   "cell_type": "markdown",
   "metadata": {},
   "source": [
    "Note que os valores no caso finito convergem rapidamente para o caso infinito."
   ]
  }
 ],
 "metadata": {
  "kernelspec": {
   "display_name": "Python 3",
   "language": "python",
   "name": "python3"
  },
  "language_info": {
   "codemirror_mode": {
    "name": "ipython",
    "version": 3
   },
   "file_extension": ".py",
   "mimetype": "text/x-python",
   "name": "python",
   "nbconvert_exporter": "python",
   "pygments_lexer": "ipython3",
   "version": "3.8.3"
  }
 },
 "nbformat": 4,
 "nbformat_minor": 4
}
