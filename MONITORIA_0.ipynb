{
 "cells": [
  {
   "cell_type": "markdown",
   "metadata": {},
   "source": [
    "# Monitoria 0: Primeiro Contato com o Jupyter"
   ]
  },
  {
   "cell_type": "markdown",
   "metadata": {},
   "source": [
    "**_Warning_**. Os elementos da linguagem usados nessa monitoria serão abordados em ritmo bem menos acelerado ao longo das aulas. O objetivo o hoje é apenas se familiarizar com o ambiente Jupyter."
   ]
  },
  {
   "cell_type": "markdown",
   "metadata": {},
   "source": [
    "**Jupyter Notebooks** combinam três elementos essenciais a qualquer projeto em ciência de dados:\n",
    "\n",
    "- A possibilidade de **especificar** e executar algoritmos em alguma linguagem de programação;\n",
    "- A possibilidade de **visualizar** os dados ao longo do projeto;\n",
    "- A possibilidade de **comunicar** seus resultados usando texto."
   ]
  },
  {
   "cell_type": "markdown",
   "metadata": {},
   "source": [
    "A célula abaixo especifica um programa que imprime na tela a sentença _Hello, World!_"
   ]
  },
  {
   "cell_type": "code",
   "execution_count": null,
   "metadata": {},
   "outputs": [],
   "source": [
    "print(\"Hello, World!\")"
   ]
  },
  {
   "cell_type": "markdown",
   "metadata": {},
   "source": [
    "Note que as células executáveis são facilmente distinguíveis das células de texto (em particular, células de texto não vêm acompanhadas de uma numeração à esquerda). "
   ]
  },
  {
   "cell_type": "markdown",
   "metadata": {},
   "source": [
    "Parte do apelo de combinar texto e código em um mesmo arquivo é integrar teoria e prática."
   ]
  },
  {
   "cell_type": "markdown",
   "metadata": {},
   "source": [
    "**Exemplo 1**: Dizemos que um número $k \\in \\mathbb{Z}$ é divisível por $n \\in \\mathbb{Z}_+$ se, e só se, existir um inteiro positivo $m$ tal que $k = m \\cdot n$. Para indicarmos que um número $k$ é divisível por $n$, escrevemos $k \\equiv 0 \\ \\text{ (mod } n)$. Esta notação introduz o operador **modulo**, que representamos por \\% quando escrevemos em Python."
   ]
  },
  {
   "cell_type": "markdown",
   "metadata": {},
   "source": [
    "**Implementação**. Note-se que, se $k \\equiv 0 \\ \\text{ (mod }n)$, então o resto da divisão de $k$ por $n$ é zero. Em Python, isto equivale a dizer que a expressão $\\texttt{k % n == 0}$ assume o valor **True**. Munidos destes fatos, vamos escrever um programa que decide se um número inteiro $k$ é ou não divisível por outro número inteiro, $n$."
   ]
  },
  {
   "cell_type": "code",
   "execution_count": null,
   "metadata": {},
   "outputs": [],
   "source": [
    "def divisible():\n",
    "    \"\"\"\n",
    "    Returns True iff k is divisible by n.\n",
    "    \n",
    "    Parameters:\n",
    "    \n",
    "    None, but the user must specify two #s:\n",
    "    \n",
    "    k: an int value;\n",
    "    n: a positive int value;\n",
    "    \"\"\"\n",
    "    print(\"Choose a value for k.\")\n",
    "    \n",
    "    k = int(input())\n",
    "    \n",
    "    print(\"Choose a value for n.\")\n",
    "    \n",
    "    n = int(input())\n",
    "    \n",
    "    if k % n == 0:\n",
    "        return True\n",
    "    else:\n",
    "        return False"
   ]
  },
  {
   "cell_type": "code",
   "execution_count": null,
   "metadata": {},
   "outputs": [],
   "source": [
    "divisible()"
   ]
  },
  {
   "cell_type": "markdown",
   "metadata": {},
   "source": [
    "_Voilà!_ Nossa função consegue computar o que discutimos em abstrato (e usando texto)."
   ]
  },
  {
   "cell_type": "markdown",
   "metadata": {},
   "source": [
    "Por fim, vamos construir um exemplo bastante artificial para ilustrar a visualização de dados em Jupyter Notebooks. Para este exemplo, precisaremos gerar números aleatórios e, portanto, uma opção é o módulo $\\texttt{random}$."
   ]
  },
  {
   "cell_type": "code",
   "execution_count": null,
   "metadata": {},
   "outputs": [],
   "source": [
    "import random"
   ]
  },
  {
   "cell_type": "markdown",
   "metadata": {},
   "source": [
    "**Exemplo 2**. Uma economista observa a flutuação do preço $P_t$ de um ativo financeiro ao longo do tempo. Ela acredita que em cada período $t \\in \\mathbb{N}$, o preço é descrito por $P_t = P_{t-1} + \\epsilon_t$, onde $\\epsilon_t \\sim \\mathcal{U}(-5, 10)$."
   ]
  },
  {
   "cell_type": "markdown",
   "metadata": {},
   "source": [
    "**Implementação**. Se os preços se movem desta forma ou não, pouco importa. Para todos os efeitos, suponhamos que sim, e tentemos plotar isto. Vamos precisar de um módulo de visualização de dados, o $\\texttt{matplotlib}$."
   ]
  },
  {
   "cell_type": "code",
   "execution_count": null,
   "metadata": {},
   "outputs": [],
   "source": [
    "from matplotlib import pyplot as plt"
   ]
  },
  {
   "cell_type": "code",
   "execution_count": null,
   "metadata": {},
   "outputs": [],
   "source": [
    "#Escolha um preço inicial.\n",
    "p_0 = 10\n",
    "\n",
    "#Escolha um horizonte de tempo.\n",
    "T = 100\n",
    "\n",
    "#Gere uma sequência de 100 choques i.i.d a partir de uma uniforme sobre [-1, 1].\n",
    "shocks = [random.uniform(-5, 10) for _ in range(0, 100)]\n",
    "\n",
    "#Agora, crie a sequência de preços usando o palpite da economista.\n",
    "prices = [p_0]\n",
    "i = 0\n",
    "while i < 99:\n",
    "    prices.append(prices[i] + shocks[i])\n",
    "    i = i + 1"
   ]
  },
  {
   "cell_type": "code",
   "execution_count": null,
   "metadata": {
    "scrolled": true
   },
   "outputs": [],
   "source": [
    "#Aqui, vamos plotar uma figura de 2 linhas e 1 coluna.\n",
    "\n",
    "plt.subplot(2, 1, 1)\n",
    "\n",
    "#Primeiro gráfico.\n",
    "\n",
    "plt.plot(prices, 'b')\n",
    "plt.title('A Stochastic Security')\n",
    "plt.xlabel('Time')\n",
    "plt.ylabel('Price')\n",
    "\n",
    "plt.subplot(2, 1, 2)\n",
    "\n",
    "#Segundo gráfico.\n",
    "\n",
    "plt.plot(shocks, '--r')\n",
    "plt.title('Shocks Originating from a Uniform(-5, 10) Distribution')\n",
    "plt.xlabel('Time')\n",
    "plt.ylabel('Shock')\n",
    "\n",
    "#Ajuste para evitar sobreposição dos gráficos.\n",
    "\n",
    "plt.tight_layout()"
   ]
  }
 ],
 "metadata": {
  "kernelspec": {
   "display_name": "Python 3",
   "language": "python",
   "name": "python3"
  },
  "language_info": {
   "codemirror_mode": {
    "name": "ipython",
    "version": 3
   },
   "file_extension": ".py",
   "mimetype": "text/x-python",
   "name": "python",
   "nbconvert_exporter": "python",
   "pygments_lexer": "ipython3",
   "version": "3.8.3"
  }
 },
 "nbformat": 4,
 "nbformat_minor": 4
}
