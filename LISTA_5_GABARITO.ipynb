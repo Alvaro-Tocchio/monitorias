{
 "cells": [
  {
   "cell_type": "code",
   "execution_count": null,
   "metadata": {},
   "outputs": [],
   "source": [
    "import numpy as np"
   ]
  },
  {
   "cell_type": "markdown",
   "metadata": {},
   "source": [
    "### Problema 1 (a)\n",
    "\n",
    "Temos:\n",
    "\n",
    "$$\\mathcal{T}(x) \\approx f(x_0) + f^{\\prime}(x_0) \\cdot (x-x_0) + \\frac{f^{\\prime \\prime}(x_0)}{2} \\cdot (x-x_0)^{2}.$$"
   ]
  },
  {
   "cell_type": "markdown",
   "metadata": {},
   "source": [
    "### Problema 1 (b)\n",
    "\n",
    "Derivando com respeito a $t = (x - x_0)$ e igualando a zero, vem:\n",
    "\n",
    "$$f^{\\prime}(x_0) + \\frac{2 \\cdot f^{\\prime \\prime}(x_0)}{2} \\cdot (x-x_0) = f^{\\prime}(x_0) + f^{\\prime \\prime}(x_0) \\cdot (x - x_0) = 0.$$\n",
    "\n",
    "Segue que:\n",
    "\n",
    "$$x - x_0 = -\\frac{f^{\\prime}(x_0)}{f^{\\prime \\prime}(x_0)}.$$\n",
    "\n",
    "Simplificando, vem:\n",
    "\n",
    "$$x = x_0 - \\frac{f^{\\prime}(x_0)}{f^{\\prime \\prime}(x_0)}.$$\n",
    "\n",
    "Troque $x$ por $x_{k+1}$ e $x_0$ por $x_k$ para obter a forma geral dos termos."
   ]
  },
  {
   "cell_type": "markdown",
   "metadata": {},
   "source": [
    "### Problema 1 (c)"
   ]
  },
  {
   "cell_type": "code",
   "execution_count": null,
   "metadata": {},
   "outputs": [],
   "source": [
    "def derivative(func, p, h=1e-6):\n",
    "    \n",
    "    num = func(p+h) - func(p)\n",
    "    den = h\n",
    "    \n",
    "    return num / den"
   ]
  },
  {
   "cell_type": "code",
   "execution_count": null,
   "metadata": {},
   "outputs": [],
   "source": [
    "def second_derivative(func, p, h=1e-6):\n",
    "    \n",
    "    num = func(p-h) - 2 * func(p) + func(p+h)\n",
    "    den = h ** 2\n",
    "    \n",
    "    return num / den"
   ]
  },
  {
   "cell_type": "code",
   "execution_count": null,
   "metadata": {},
   "outputs": [],
   "source": [
    "def newton(func, p, eps=1e-6, maxiter=100):\n",
    "    \n",
    "    j = 0\n",
    "    \n",
    "    while (j := j + 1) < maxiter:\n",
    "        \n",
    "        q = p - derivative(func, p) / second_derivative(func, p)\n",
    "        \n",
    "        if abs(p - q) < eps:\n",
    "            \n",
    "            break\n",
    "            \n",
    "        p = q\n",
    "        \n",
    "    return p"
   ]
  },
  {
   "cell_type": "code",
   "execution_count": null,
   "metadata": {},
   "outputs": [],
   "source": [
    "newton(lambda x: x ** 2 - 4 * x + 5, 1)"
   ]
  },
  {
   "cell_type": "code",
   "execution_count": null,
   "metadata": {},
   "outputs": [],
   "source": [
    "newton(lambda x: x ** 3 - 6 * x ** 2 + 4 * x + 2, 1)"
   ]
  },
  {
   "cell_type": "code",
   "execution_count": null,
   "metadata": {},
   "outputs": [],
   "source": [
    "import math\n",
    "\n",
    "newton(lambda x: math.sin(x), 666)"
   ]
  },
  {
   "cell_type": "markdown",
   "metadata": {},
   "source": [
    "### Problema 2 (a)\n",
    "\n",
    "Lembro que a sequência de Fibonacci é recursivamente definida por:\n",
    "\n",
    "$$\\begin{align*}&F_0 = F_1 = 1\\\\&F_{k+1} = F_{k} + F_{k-1} \\quad (k \\geq 1)\\end{align*}$$\n",
    "\n",
    "Assim sendo, basta resolver o sistema de equações em diferenças finitas $u_{k+1} = Au_{k}$ dado por:\n",
    "\n",
    "$$\\begin{bmatrix}F_{k+1}\\\\F_{k}\\end{bmatrix} = \\begin{bmatrix}1 & 1\\\\1 & 0\\end{bmatrix}\\begin{bmatrix}F_{k}\\\\ F_{k-1}\\end{bmatrix}$$"
   ]
  },
  {
   "cell_type": "code",
   "execution_count": null,
   "metadata": {},
   "outputs": [],
   "source": [
    "def fib(k):\n",
    "    \n",
    "    A = np.array([\n",
    "        [1.0, 1.0],\n",
    "        [1.0, 0.0]\n",
    "    ])\n",
    "    \n",
    "    u_0 = np.array([1, 1])\n",
    "    \n",
    "    return (np.linalg.matrix_power(A, k) @ u_0)[1]"
   ]
  },
  {
   "cell_type": "markdown",
   "metadata": {},
   "source": [
    "### Problema 2 (b)\n",
    "\n",
    "Obviamente,\n",
    "\n",
    "$$\\frac{a+b}{a} = \\frac{a}{a} + \\frac{b}{a} = 1 + \\frac{1}{\\varphi},$$\n",
    "\n",
    "donde\n",
    "\n",
    "$$1+\\frac{1}{\\varphi} = \\varphi,$$\n",
    "\n",
    "ou seja,\n",
    "\n",
    "$$\\varphi^2 - \\varphi - 1 = 0.$$\n",
    "\n",
    "Segue que\n",
    "\n",
    "$$\\varphi = \\begin{cases}&\\frac{1-\\sqrt{5}}{2}\\\\&\\frac{1+\\sqrt{5}}{2}\\end{cases}$$\n",
    "\n",
    "são os números buscados. Agora, note que:"
   ]
  },
  {
   "cell_type": "code",
   "execution_count": null,
   "metadata": {},
   "outputs": [],
   "source": [
    "abs(((1 + np.sqrt(5)) / 2) - fib(666)/fib(665)) < 1e-10"
   ]
  },
  {
   "cell_type": "markdown",
   "metadata": {},
   "source": [
    "### Problema 2 (c)"
   ]
  },
  {
   "cell_type": "code",
   "execution_count": null,
   "metadata": {},
   "outputs": [],
   "source": [
    "golden_ratio = fib(666) / fib(665)\n",
    "\n",
    "def golden_section_search(func, a, b, eps=1e-6):\n",
    "    \n",
    "    #Obs: inicialmente, o intervalo fica com a seguinte cara:\n",
    "    \n",
    "    # a ----- c ----- d ------- d\n",
    "    \n",
    "    c = b - (b - a) / golden_ratio\n",
    "    \n",
    "    d = a + (b - a) / golden_ratio\n",
    "    \n",
    "    while abs(b - a) > eps:\n",
    "        \n",
    "        if func(c) < func(d):\n",
    "            \n",
    "            b = d\n",
    "            \n",
    "        else:\n",
    "            \n",
    "            a = c\n",
    "            \n",
    "        c = b - (b - a) / golden_ratio\n",
    "    \n",
    "        d = a + (b - a) / golden_ratio\n",
    "        \n",
    "    return (b + a) / 2"
   ]
  },
  {
   "cell_type": "markdown",
   "metadata": {},
   "source": [
    "### Problema 3 (a)\n",
    "\n",
    "Lucro:\n",
    "\n",
    "$$200x + 300y + 500z,$$\n",
    "\n",
    "onde $x$ representa Chevrolet, $y$ representa Buick, $z$ representa Cadillac."
   ]
  },
  {
   "cell_type": "markdown",
   "metadata": {},
   "source": [
    "### Problema 3 (b)\n",
    "\n",
    "- $20x + 17y + 14z \\geq 18(x + y + z)$\n",
    "- $x + 2y + 3z \\leq 480$\n",
    "- $x, y, z \\geq 0$"
   ]
  },
  {
   "cell_type": "code",
   "execution_count": null,
   "metadata": {},
   "outputs": [],
   "source": [
    "from scipy.optimize import linprog\n",
    "\n",
    "profit_coefs = [-200, -300, -500]\n",
    "\n",
    "A = [[-2, 1, 4], [1, 2, 3]]\n",
    "\n",
    "b = [0, 480]\n",
    "\n",
    "x_bounds, y_bounds, z_bounds = (0, None), (0, None), (0, None)\n",
    "\n",
    "linprog(profit_coefs, A_ub=A, b_ub=b, bounds=[x_bounds, y_bounds, z_bounds])"
   ]
  }
 ],
 "metadata": {
  "kernelspec": {
   "display_name": "Python 3",
   "language": "python",
   "name": "python3"
  },
  "language_info": {
   "codemirror_mode": {
    "name": "ipython",
    "version": 3
   },
   "file_extension": ".py",
   "mimetype": "text/x-python",
   "name": "python",
   "nbconvert_exporter": "python",
   "pygments_lexer": "ipython3",
   "version": "3.8.3"
  }
 },
 "nbformat": 4,
 "nbformat_minor": 4
}
