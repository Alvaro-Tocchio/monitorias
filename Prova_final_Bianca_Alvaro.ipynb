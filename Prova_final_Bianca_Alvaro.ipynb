{
  "nbformat": 4,
  "nbformat_minor": 0,
  "metadata": {
    "colab": {
      "name": "Prova_final_Bianca_Alvaro.ipynb",
      "provenance": [],
      "collapsed_sections": [],
      "include_colab_link": true
    },
    "kernelspec": {
      "name": "python3",
      "display_name": "Python 3"
    }
  },
  "cells": [
    {
      "cell_type": "markdown",
      "metadata": {
        "id": "view-in-github",
        "colab_type": "text"
      },
      "source": [
        "<a href=\"https://colab.research.google.com/github/Alvaro-Tocchio/monitorias/blob/master/Prova_final_Bianca_Alvaro.ipynb\" target=\"_parent\"><img src=\"https://colab.research.google.com/assets/colab-badge.svg\" alt=\"Open In Colab\"/></a>"
      ]
    },
    {
      "cell_type": "markdown",
      "metadata": {
        "id": "0ha0dVz_AGuV"
      },
      "source": [
        "## **Prova Final**\r\n",
        "\r\n",
        "Alvaro Tocchio nºUSP 8964000 <br>\r\n",
        "Bianca de Oliveira Araujo nºUSP 8964852\r\n"
      ]
    },
    {
      "cell_type": "code",
      "metadata": {
        "id": "T7jxZWZpC4Ze"
      },
      "source": [
        "#imports\r\n",
        "import numpy as np\r\n",
        "import math\r\n",
        "from scipy import optimize as opt\r\n",
        "from scipy.optimize import linprog"
      ],
      "execution_count": null,
      "outputs": []
    },
    {
      "cell_type": "markdown",
      "metadata": {
        "id": "6bbKKwlHCBNA"
      },
      "source": [
        "#### **1.1 Exercício 1**\r\n",
        "##### **1.1.1 1a** "
      ]
    },
    {
      "cell_type": "code",
      "metadata": {
        "id": "PD4Hbbk7E1J0"
      },
      "source": [
        "def partition(m,v):\r\n",
        "  lower = list()\r\n",
        "  upper = list()\r\n",
        "  equal = list()\r\n",
        "\r\n",
        "  for e in m:\r\n",
        "    if e > v:\r\n",
        "      upper.append(e)\r\n",
        "    elif e < v:\r\n",
        "      lower.append(e)\r\n",
        "    else:\r\n",
        "      equal.append(e)\r\n",
        "  return lower, equal, upper"
      ],
      "execution_count": null,
      "outputs": []
    },
    {
      "cell_type": "markdown",
      "metadata": {
        "id": "yvkP8hg6Fxpi"
      },
      "source": [
        "##### **1.1.1 1b**"
      ]
    },
    {
      "cell_type": "code",
      "metadata": {
        "id": "csB3oglGF3A7"
      },
      "source": [
        "def qsort(m):\r\n",
        "  if len(m)>1:\r\n",
        "    value = m[0]\r\n",
        "    lower, equal, upper = partition(m, value)\r\n",
        "    #recursão ordena a parte menor e a maior\r\n",
        "    l = qsort(lower)\r\n",
        "    u = qsort(upper)\r\n",
        "    #junta as listas ordenadas\r\n",
        "    return l + equal + u\r\n",
        "  else:\r\n",
        "    #retorna a lista se ela tiver 1 ou nenhum elemento\r\n",
        "    return m \r\n",
        "\r\n"
      ],
      "execution_count": null,
      "outputs": []
    },
    {
      "cell_type": "markdown",
      "metadata": {
        "id": "N9h9csI4Hk7w"
      },
      "source": [
        "#### **1.2 Exercício 2**\r\n",
        "\r\n"
      ]
    },
    {
      "cell_type": "code",
      "metadata": {
        "id": "yI1Yg7J2H2GR"
      },
      "source": [
        "def deriv(f, x, i, h=1e-6):\r\n",
        "  x = np.array(x)\r\n",
        "  x_menos = np.array(x)\r\n",
        "  x_mais = np.array(x)\r\n",
        "\r\n",
        "  #varia o indice 'i' em h para calcular a diferença\r\n",
        "  x_menos[i] -= h\r\n",
        "  x_mais[i] += h\r\n",
        "\r\n",
        "  e = (f(*x_mais) - f(*x_menos)) / (2*h)\r\n",
        "  return e\r\n"
      ],
      "execution_count": null,
      "outputs": []
    },
    {
      "cell_type": "markdown",
      "metadata": {
        "id": "n8qVFRZpIpe_"
      },
      "source": [
        "#### **1.3 Exercício 3**"
      ]
    },
    {
      "cell_type": "code",
      "metadata": {
        "id": "S27qdUv0I0Z8"
      },
      "source": [
        "def definiteness(A):\r\n",
        "  autovalores = np.linalg.eigvals(A)\r\n",
        "  if np.all(autovalores > 0):\r\n",
        "    return 2\r\n",
        "  elif np.all(autovalores >= 0):\r\n",
        "    return 1\r\n",
        "  elif np.all(autovalores < 0):\r\n",
        "    return -2\r\n",
        "  elif np.all(autovalores <= 0):\r\n",
        "    return -1\r\n",
        "  else:\r\n",
        "    return 0"
      ],
      "execution_count": null,
      "outputs": []
    },
    {
      "cell_type": "markdown",
      "metadata": {
        "id": "0IluOvXmJkRQ"
      },
      "source": [
        "#### **1.4 Exercício 4**"
      ]
    },
    {
      "cell_type": "code",
      "metadata": {
        "id": "q-lakVskJtTX"
      },
      "source": [
        "# funcao original\r\n",
        "# -(x**6) + 3*(x**3) + 4*x -1\r\n",
        "\r\n",
        "def f(x):\r\n",
        "  # funcao -f para possuir um minimo\r\n",
        "  return (x**6) - 3(x**3) - 4*x + 1\r\n",
        "\r\n",
        "def optf():\r\n",
        "  # basinhopping encontra o minimo de -f\r\n",
        "  # -1 * minimo de -f é o maximo de f\r\n",
        "\r\n",
        "  x_maximo = opt.basinhopping(f,0).x\r\n",
        "  return -f(x_maximo)\r\n",
        "  "
      ],
      "execution_count": null,
      "outputs": []
    },
    {
      "cell_type": "markdown",
      "metadata": {
        "id": "XUbCBH4pM0of"
      },
      "source": [
        "#### **1.5 Exercício 5**"
      ]
    },
    {
      "cell_type": "code",
      "metadata": {
        "id": "-LVKOpfmIsPP"
      },
      "source": [
        "# Ax -> Número de barris indo de texas para chicago\r\n",
        "# Ay -> Número de barris indo da california para chicago\r\n",
        "# Az -> Número de barris indo do alasca para chicago\r\n",
        "# Bx -> Número de barris indo de texas para inglaterra\r\n",
        "# By -> Número de barris indo da california para inglaterra\r\n",
        "# Az -> Número de barris indo do alasca para inglaterra\r\n",
        "\r\n",
        "# Funcao a ser minimizada: 1000Ax + 2000Ay + 3000Az + 1500Bx + 3000By + 3700Bz\r\n",
        "\r\n",
        "# Restricoes:\r\n",
        "# Ax + Bx <= 1000000 |\r\n",
        "# Ay + By <= 1000000 | -> Cada fonte pode mandar até 1000000\r\n",
        "# Az + Bz <= 1000000 |\r\n",
        "# Ax + Ay + Az = 800000 -> 800000 indo para chicago\r\n",
        "# Bx + By + Bz = 2200000 -> 2200000 indo para nova inglaterra\r\n",
        "\r\n",
        "def oil():\r\n",
        "  c = [1000, 2000, 3000, 1500, 3000, 3700]\r\n",
        "  \r\n",
        "  A_ub = [[1,0,0,1,0,0],\r\n",
        "          [0,1,0,0,1,0],\r\n",
        "          [0,0,1,0,0,1]]\r\n",
        "  b_ub = [1000000, 1000000, 1000000]\r\n",
        "\r\n",
        "\r\n",
        "  A_eq = [[1,1,1,0,0,0],\r\n",
        "          [0,0,0,1,1,1]]\r\n",
        "  b_eq = [800000, 2200000]\r\n",
        "\r\n",
        "  res = linprog(c, A_ub = A_ub, b_ub = b_ub, A_eq = A_eq, b_eq = b_eq,\r\n",
        "                method = 'revised simplex')\r\n",
        "  valores = res.x\r\n",
        "\r\n",
        "  sol = {\r\n",
        "      'CH': {'TX': valores[0], 'CA': valores[1], 'AK': valores[2]}\r\n",
        "      'NE': {'TX': valores[3], 'CA': valores[4], 'AK': valores[5]}\r\n",
        "      }\r\n",
        "\r\n",
        "  return sol\r\n",
        "\r\n",
        "\r\n",
        "          \r\n",
        "\r\n",
        "\r\n"
      ],
      "execution_count": null,
      "outputs": []
    },
    {
      "cell_type": "markdown",
      "metadata": {
        "id": "64MxwqNeNHAn"
      },
      "source": [
        "#### **1.6 Exercício 6**"
      ]
    },
    {
      "cell_type": "code",
      "metadata": {
        "id": "wHvRuwj2CAiK"
      },
      "source": [
        "def J(k):\r\n",
        "    grafo = {\r\n",
        "        'A': {'C': 5, 'B': 1, 'D': 3},\r\n",
        "        'B': {'D': 9, 'E': 6},\r\n",
        "        'C': {'F': 2},\r\n",
        "        'D': {'F': 4, 'G': 8},\r\n",
        "        'E': {'G': 4},\r\n",
        "        'F': {'G': 1},\r\n",
        "        'G': {}\r\n",
        "    }\r\n",
        "    # grafo com menor distancia\r\n",
        "    j = {}\r\n",
        "    nao_visitados = grafo\r\n",
        "\r\n",
        "    # inicializa a menor ditancia como infinito\r\n",
        "    # para todos os nós\r\n",
        "    for vertice in  nao_visitados:\r\n",
        "        j[vertice] = math.inf\r\n",
        "\r\n",
        "    j[k] = 0\r\n",
        "    while(nao_visitados):\r\n",
        "        melhor_vertice = None\r\n",
        "        \r\n",
        "        for vertice in nao_visitados: \r\n",
        "            if melhor_vertice is None:\r\n",
        "                melhor_vertice = vertice\r\n",
        "                \r\n",
        "            elif j[melhor_vertice] > j[vertice]:\r\n",
        "                melhor_vertice = vertice\r\n",
        "\r\n",
        "        for vizinho, custo in nao_visitados[melhor_vertice].items():\r\n",
        "            if custo + j[melhor_vertice] < j[vizinho]:  \r\n",
        "                j[vizinho] = custo + j[melhor_vertice]\r\n",
        "\r\n",
        "        nao_visitados.pop(melhor_vertice)\r\n",
        "    # retorna o menor custo até G\r\n",
        "    return j['G']\r\n"
      ],
      "execution_count": null,
      "outputs": []
    },
    {
      "cell_type": "markdown",
      "metadata": {
        "id": "4KNwgcsBNJTH"
      },
      "source": [
        "#### **1.7 Exercício 7**"
      ]
    },
    {
      "cell_type": "code",
      "metadata": {
        "id": "fpO4D2NpDab4"
      },
      "source": [
        "# função produção de cerveja\r\n",
        "def Y(x, alpha):\r\n",
        "    return x**alpha\r\n",
        "\r\n",
        "\r\n",
        "# retorna o preço no instante t\r\n",
        "def get_pt(p, t, gamma):\r\n",
        "    if t == 1:\r\n",
        "        return 1 + gamma\r\n",
        "    if p[t] != 0:\r\n",
        "        return p[t]\r\n",
        "    return (1 + gamma) * get_pt(p, t-1, gamma)\r\n",
        "\r\n",
        "\r\n",
        "# derivada do lucro\r\n",
        "def df(x, t, alpha, gamma, r, p):\r\n",
        "    p[t] = get_pt(p, t, gamma)\r\n",
        "    return (alpha * ((1/(1+r)) * p[t] * Y(x, alpha-1)))\r\n",
        "\r\n",
        "\r\n",
        "# Função lucro\r\n",
        "def f(x, t, alpha, gamma, r, p):\r\n",
        "    p[t] = get_pt(p, t, gamma)\r\n",
        "    return ((1/(1+r)) * p[t] * Y(x, alpha))\r\n",
        "\r\n",
        "\r\n",
        "def beer(X0, alpha, gamma, r):\r\n",
        "    p = np.zeros(1000)\r\n",
        "    p[0] = 1\r\n",
        "    # encontra a raíz da derivada\r\n",
        "    res = opt.root(df, [0], args=(1000, alpha, gamma, r, p))\r\n",
        "    # retorna a produção máxima\r\n",
        "    return Y(res.x, alpha)"
      ],
      "execution_count": null,
      "outputs": []
    },
    {
      "cell_type": "markdown",
      "metadata": {
        "id": "V1f4TGbDNLc1"
      },
      "source": [
        "#### **1.8 Exercício 8**"
      ]
    },
    {
      "cell_type": "code",
      "metadata": {
        "id": "PUldhzEHDiov"
      },
      "source": [
        "def V(u, p, Y):\r\n",
        "    # nega U para minimizar com restrição\r\n",
        "    def menos_u(x):\r\n",
        "        return -1 * u(x)\r\n",
        "\r\n",
        "    plinha = np.diff(p)\r\n",
        "    # encontra minimo de -U(x) da função\r\n",
        "    res = opt.minimize(menos_u, [0])\r\n",
        "    # retorna o valor da utilidade encontrada\r\n",
        "    return -res.fun"
      ],
      "execution_count": null,
      "outputs": []
    }
  ]
}