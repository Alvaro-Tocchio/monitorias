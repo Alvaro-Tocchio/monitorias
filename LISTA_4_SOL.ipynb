{
 "cells": [
  {
   "cell_type": "code",
   "execution_count": 1,
   "metadata": {},
   "outputs": [],
   "source": [
    "import numpy as np"
   ]
  },
  {
   "cell_type": "markdown",
   "metadata": {},
   "source": [
    "### Problema 1 (a)"
   ]
  },
  {
   "cell_type": "code",
   "execution_count": 2,
   "metadata": {},
   "outputs": [],
   "source": [
    "x = np.array([\n",
    "    -100, -100, -100, 400\n",
    "])\n",
    "\n",
    "y = np.array([\n",
    "    -200, -50, -50, 400\n",
    "])"
   ]
  },
  {
   "cell_type": "code",
   "execution_count": 3,
   "metadata": {},
   "outputs": [
    {
     "data": {
      "text/plain": [
       "array([-300, -150, -150,  800])"
      ]
     },
     "execution_count": 3,
     "metadata": {},
     "output_type": "execute_result"
    }
   ],
   "source": [
    "x + y"
   ]
  },
  {
   "cell_type": "code",
   "execution_count": 4,
   "metadata": {},
   "outputs": [
    {
     "data": {
      "text/plain": [
       "190000"
      ]
     },
     "execution_count": 4,
     "metadata": {},
     "output_type": "execute_result"
    }
   ],
   "source": [
    "np.dot(x, y) #Seriam ortogonais se np.dot(x, y) = 0, logo, x e y não são ortogonais."
   ]
  },
  {
   "cell_type": "code",
   "execution_count": 5,
   "metadata": {},
   "outputs": [
    {
     "name": "stdout",
     "output_type": "stream",
     "text": [
      "A norma de x é 435.88989435406734 e a norma de y é 452.76925690687085\n"
     ]
    }
   ],
   "source": [
    "print(f'A norma de x é {np.linalg.norm(x)} e a norma de y é {np.linalg.norm(y)}')"
   ]
  },
  {
   "cell_type": "code",
   "execution_count": 6,
   "metadata": {},
   "outputs": [
    {
     "name": "stdout",
     "output_type": "stream",
     "text": [
      "A distância euclideana entre x e y é 122.47448713915891. Distância Manhattan é 200.0\n"
     ]
    }
   ],
   "source": [
    "print(f'A distância euclideana entre x e y é {np.linalg.norm(x - y)}. Distância Manhattan é {np.linalg.norm(x-y, ord=1)}')"
   ]
  },
  {
   "cell_type": "code",
   "execution_count": 7,
   "metadata": {},
   "outputs": [
    {
     "name": "stdout",
     "output_type": "stream",
     "text": [
      "[[-100 -200]\n",
      " [-100  -50]\n",
      " [-100  -50]\n",
      " [ 400  400]]\n"
     ]
    }
   ],
   "source": [
    "A = np.vstack((x, y)).T\n",
    "\n",
    "print(A)"
   ]
  },
  {
   "cell_type": "code",
   "execution_count": 8,
   "metadata": {},
   "outputs": [
    {
     "data": {
      "text/plain": [
       "2"
      ]
     },
     "execution_count": 8,
     "metadata": {},
     "output_type": "execute_result"
    }
   ],
   "source": [
    "np.linalg.matrix_rank(A) #Posto coluna = 2 = #colunas LI. Segue que x e y são vetores LI."
   ]
  },
  {
   "cell_type": "markdown",
   "metadata": {},
   "source": [
    "### Problema 1 (b)"
   ]
  },
  {
   "cell_type": "code",
   "execution_count": 9,
   "metadata": {},
   "outputs": [],
   "source": [
    "A = np.array([\n",
    "    [0.9, 0.2],\n",
    "    [0.1, 0.8]\n",
    "])"
   ]
  },
  {
   "cell_type": "code",
   "execution_count": 10,
   "metadata": {},
   "outputs": [
    {
     "data": {
      "text/plain": [
       "array([[0.9, 0.1],\n",
       "       [0.2, 0.8]])"
      ]
     },
     "execution_count": 10,
     "metadata": {},
     "output_type": "execute_result"
    }
   ],
   "source": [
    "A.T"
   ]
  },
  {
   "cell_type": "code",
   "execution_count": 11,
   "metadata": {},
   "outputs": [
    {
     "data": {
      "text/plain": [
       "array([[0.82, 0.26],\n",
       "       [0.26, 0.68]])"
      ]
     },
     "execution_count": 11,
     "metadata": {},
     "output_type": "execute_result"
    }
   ],
   "source": [
    "A.T @ A #Simétrica visualmente; você consegue pensar num teste formal de simetria no numpy?"
   ]
  },
  {
   "cell_type": "code",
   "execution_count": 12,
   "metadata": {},
   "outputs": [
    {
     "data": {
      "text/plain": [
       "array([[ 1.14285714, -0.28571429],\n",
       "       [-0.14285714,  1.28571429]])"
      ]
     },
     "execution_count": 12,
     "metadata": {},
     "output_type": "execute_result"
    }
   ],
   "source": [
    "np.linalg.inv(A) #Invertível implica posto completo. Próximo subitem é redundante."
   ]
  },
  {
   "cell_type": "code",
   "execution_count": 13,
   "metadata": {},
   "outputs": [
    {
     "data": {
      "text/plain": [
       "2"
      ]
     },
     "execution_count": 13,
     "metadata": {},
     "output_type": "execute_result"
    }
   ],
   "source": [
    "np.linalg.matrix_rank(A) #Posto completo."
   ]
  },
  {
   "cell_type": "code",
   "execution_count": 14,
   "metadata": {},
   "outputs": [
    {
     "data": {
      "text/plain": [
       "1.7000000000000002"
      ]
     },
     "execution_count": 14,
     "metadata": {},
     "output_type": "execute_result"
    }
   ],
   "source": [
    "np.trace(A)"
   ]
  },
  {
   "cell_type": "code",
   "execution_count": 15,
   "metadata": {},
   "outputs": [
    {
     "data": {
      "text/plain": [
       "0.7000000000000001"
      ]
     },
     "execution_count": 15,
     "metadata": {},
     "output_type": "execute_result"
    }
   ],
   "source": [
    "np.linalg.det(A)"
   ]
  },
  {
   "cell_type": "code",
   "execution_count": 16,
   "metadata": {},
   "outputs": [
    {
     "name": "stdout",
     "output_type": "stream",
     "text": [
      "O espectro da matriz A é o vetor: [1.  0.7]\n"
     ]
    }
   ],
   "source": [
    "spectre, S = np.linalg.eig(A)\n",
    "\n",
    "print(f'O espectro da matriz A é o vetor: {spectre}')"
   ]
  },
  {
   "cell_type": "markdown",
   "metadata": {},
   "source": [
    "### Problema 1 (c)"
   ]
  },
  {
   "cell_type": "code",
   "execution_count": 17,
   "metadata": {},
   "outputs": [],
   "source": [
    "A = np.array([\n",
    "    [-0.9, 0.2],\n",
    "    [0.1, 0.8]\n",
    "])"
   ]
  },
  {
   "cell_type": "code",
   "execution_count": 18,
   "metadata": {},
   "outputs": [
    {
     "name": "stdout",
     "output_type": "stream",
     "text": [
      "Sua matriz é de Markov.\n"
     ]
    }
   ],
   "source": [
    "for matrix in [A]:\n",
    "    \n",
    "    if (matrix > 1).any() or sum(A[:, 0]) + sum(A[:, 1]) > 2:\n",
    "        \n",
    "        print('Sua matriz não é de Markov!')\n",
    "        \n",
    "    else:\n",
    "        \n",
    "        print('Sua matriz é de Markov.')"
   ]
  },
  {
   "cell_type": "markdown",
   "metadata": {},
   "source": [
    "### Equacionando o problema:\n",
    "\n",
    "$$\\begin{cases}g_1 = 0.9 \\cdot g_0 + 0.2 \\cdot a_0 \\\\ a_1 = 0.1 \\cdot g_0 + 0.8 \\cdot a_0\\end{cases}$$\n",
    "\n",
    "Essas equações descrevem o movimento de consumidores entre ambientes. Temos aí equações que conectam o estado inicial ao estado em $t = 1$, mas tanto faz; poderíamos considerar uma equação em $t-1$ e $t$. Note que o sistema é idêntico a:\n",
    "\n",
    "$$\\begin{bmatrix}g_1\\\\a_1\\end{bmatrix} = \\begin{bmatrix}0.9 & 0.2 \\\\ 0.1 & 0.8\\end{bmatrix}\\begin{bmatrix}g_0\\\\a_0\\end{bmatrix}$$\n",
    "\n",
    "Isto resolve o subitem 1. Vamos para o subitem 2. Precisamos diagonalizar $A$."
   ]
  },
  {
   "cell_type": "code",
   "execution_count": 19,
   "metadata": {},
   "outputs": [],
   "source": [
    "#Crio o espectro (cjto. de autovalores) e a matriz espectral (colunas = autovetores) unitária.\n",
    "\n",
    "spectre, S = np.linalg.eig(A)"
   ]
  },
  {
   "cell_type": "code",
   "execution_count": 20,
   "metadata": {},
   "outputs": [],
   "source": [
    "#Lembro que a matriz Lambda de autovalores é diagonal com autovalores nas entradas.\n",
    "\n",
    "Lambda = np.diag(spectre)"
   ]
  },
  {
   "cell_type": "code",
   "execution_count": 21,
   "metadata": {},
   "outputs": [
    {
     "data": {
      "text/plain": [
       "array([[-0.99491358,  0.11624965],\n",
       "       [-0.05842064, -0.99997702]])"
      ]
     },
     "execution_count": 21,
     "metadata": {},
     "output_type": "execute_result"
    }
   ],
   "source": [
    "np.linalg.inv(S)"
   ]
  },
  {
   "cell_type": "markdown",
   "metadata": {},
   "source": [
    "Então podemos escrever:\n",
    "\n",
    "$$A = \\begin{bmatrix} 0.894 & -0.707 \\\\ 0.447 & \\phantom{-}0.707\\end{bmatrix}\\begin{bmatrix}1 & 0\\\\0 & 0.7\\end{bmatrix}\\begin{bmatrix}\\phantom{-}0.745 & 0.745 \\\\ -0.471 & 0.943\\end{bmatrix}$$\n",
    "\n",
    "Ou, no caso do subitem 3,\n",
    "\n",
    "$$A = \\begin{bmatrix} 0.894 & -0.707 \\\\ 0.447 & \\phantom{-}0.707\\end{bmatrix}\\begin{bmatrix}1^{k} & 0\\\\0 & 0.7^{k}\\end{bmatrix}\\begin{bmatrix}\\phantom{-}0.745 & 0.745 \\\\ -0.471 & 0.943\\end{bmatrix}$$\n",
    "\n",
    "Tradicionalmente, pessoas faziam $k \\to \\infty$ na mão!!! Por sorte, hoje temos módulos numéricos que computam isso bem rápido, e nem precisamos do $\\infty$."
   ]
  },
  {
   "cell_type": "code",
   "execution_count": 22,
   "metadata": {},
   "outputs": [
    {
     "data": {
      "text/plain": [
       "array([ 6.29429800e-39, -3.67725383e-40])"
      ]
     },
     "execution_count": 22,
     "metadata": {},
     "output_type": "execute_result"
    }
   ],
   "source": [
    "#Subitem 4. Duopólio converge para 2/3 da população na Google e 1/3 na Apple:\n",
    "\n",
    "np.linalg.matrix_power(A, 1000) @ np.array([100, 80]).T"
   ]
  },
  {
   "cell_type": "markdown",
   "metadata": {},
   "source": [
    "### Problema 1 (d)\n",
    "\n",
    "Não vou explicar aqui os prolegômenos do enunciado. Vamos simplesmente computar as soluções."
   ]
  },
  {
   "cell_type": "code",
   "execution_count": 23,
   "metadata": {},
   "outputs": [],
   "source": [
    "C = np.array([\n",
    "    [0.4, 0.0, 0.1],\n",
    "    [0.0, 0.1, 0.8],\n",
    "    [0.5, 0.7, 0.1]\n",
    "])"
   ]
  },
  {
   "cell_type": "code",
   "execution_count": 24,
   "metadata": {},
   "outputs": [],
   "source": [
    "C_prime = np.array([\n",
    "    [0, 2],\n",
    "    [2, 0]\n",
    "])"
   ]
  },
  {
   "cell_type": "code",
   "execution_count": 25,
   "metadata": {},
   "outputs": [],
   "source": [
    "C_twice_prime = np.array([\n",
    "    [0.5, 2.0],\n",
    "    [0.0, 0.5]\n",
    "])"
   ]
  },
  {
   "cell_type": "code",
   "execution_count": 26,
   "metadata": {},
   "outputs": [
    {
     "name": "stdout",
     "output_type": "stream",
     "text": [
      "Sua economia é estável e a inversa de I - C é dada por:\n",
      " [[2.38095238 0.66666667 0.85714286]\n",
      " [3.80952381 4.66666667 4.57142857]\n",
      " [4.28571429 4.         5.14285714]]\n",
      "Sua economia não é estável.\n",
      "Sua economia é estável e a inversa de I - C é dada por:\n",
      " [[2. 8.]\n",
      " [0. 2.]]\n"
     ]
    }
   ],
   "source": [
    "for linear_economy in [C, C_prime, C_twice_prime]:\n",
    "    \n",
    "    if any (np.linalg.eig(linear_economy)[0] > 1):\n",
    "        \n",
    "        print('Sua economia não é estável.')\n",
    "        \n",
    "    else:\n",
    "        \n",
    "        print(f'Sua economia é estável e a inversa de I - C é dada por:\\n {np.linalg.inv(np.eye(np.shape(linear_economy)[0]) - linear_economy)}')"
   ]
  },
  {
   "cell_type": "markdown",
   "metadata": {},
   "source": [
    "### Problema 2 (a)\n",
    "\n",
    "Preciso que seja $\\langle e, a \\rangle = 0$, onde $e = b - p$ é o erro de aproximação. *Also*, sei que $p$ vai ser um múltiplo de $a$, digamos, $p = \\hat{x}a$, onde $\\hat{x}$ é um **escalar**. Nossa equação de interesse será a seguinte:\n",
    "\n",
    "$$a^{T}(b - \\hat{x}a) = 0,$$\n",
    "\n",
    "e equivale a\n",
    "\n",
    "$$a^{T}b - \\hat{x}a^{T}a = 0,$$\n",
    "\n",
    "ou seja:\n",
    "\n",
    "$$\\hat{x} = \\frac{a^{T}b}{a^{T}a} \\in \\mathbb{R}.$$\n",
    "\n",
    "Segue que:\n",
    "\n",
    "$$p = \\frac{a^{T}b}{a^{T}a}a.$$\n",
    "\n",
    "Ok, vamos aplicar ao problema 1, só pra termos uma ideia."
   ]
  },
  {
   "cell_type": "code",
   "execution_count": 27,
   "metadata": {},
   "outputs": [],
   "source": [
    "x = np.array([-100, -100, -100, 400])\n",
    "y = np.array([-200, -50, -50, 400])"
   ]
  },
  {
   "cell_type": "code",
   "execution_count": 28,
   "metadata": {},
   "outputs": [
    {
     "data": {
      "text/plain": [
       "array([-185.36585366,  -46.34146341,  -46.34146341,  370.73170732])"
      ]
     },
     "execution_count": 28,
     "metadata": {},
     "output_type": "execute_result"
    }
   ],
   "source": [
    "#Proj de x sobre y:\n",
    "\n",
    "((y @ x) / (y @ y)) * y"
   ]
  },
  {
   "cell_type": "markdown",
   "metadata": {},
   "source": [
    "### Problema 2 (b)\n",
    "\n",
    "$$P = \\frac{aa^{T}}{a^{T}a}$$\n",
    "\n",
    "Evidentemente simétrica pois se $a$ é $k \\times 1$, então $a^{T}$ é $1 \\times k$, donde $aa^{T}$ é $k \\times k$; daí, basta notar que cada entrada $x[i][j]$ da matriz $k \\times k$ será da forma $a[i] \\cdot a[j]$. Então $x[i][j] = a[i]\\cdot a[j] = a[j] \\cdot a[i] = x[j][i]$.\n",
    "\n",
    "Pra mostrar que $P^{2} = P$, basta multiplicar $P$ por $P$. Não entramos em detalhes operacionais aqui."
   ]
  },
  {
   "cell_type": "markdown",
   "metadata": {},
   "source": [
    "### Problema 2 (c)\n",
    "\n",
    "Deriva e iguala a zero. O mantra dos economistas na graduação.\n",
    "\n",
    "$$\\partial_{x}E = 2 [(2x - b_1) \\cdot 2 + (3x - b_2) \\cdot 3 + (4x - b_3) \\cdot 4] = 0$$\n",
    "\n",
    "Daí,\n",
    "\n",
    "$$\\hat{x} = \\frac{2b_1 + 3b_2 + 4b_3}{2^{2} + 3^{2} + 4^{2}} = \\frac{[2, 3, 4]^{T}b}{[2, 3, 4]^{T}[2, 3, 4]}$$"
   ]
  },
  {
   "cell_type": "markdown",
   "metadata": {},
   "source": [
    "### Problema 2 (d)\n",
    "\n",
    "De novo, não quero fazer as $n$ equações normais necessárias. É bastante óbvio no que vai dar:\n",
    "\n",
    "$$\\hat{x} = (A^{T}A)^{-1}A^{T}b$$\n",
    "\n",
    "O termo com a inversa da matriz simétrica hermitiana $(A^{T}A)$ é a mesma coisa que $\\frac{1}{a^{T}a}$, já que a operação de inverso multiplicativo no grupo das matrizes é da forma $M \\mapsto M^{-1}$. O outro termo é idêntico."
   ]
  },
  {
   "cell_type": "markdown",
   "metadata": {},
   "source": [
    "### Problema 2 (e)\n",
    "\n",
    "Temos que resolver equações como $1 = F + 50 \\cdot n$, etc. No fundo, você quer resolver um sistema linear onde a sua matriz de coeficientes, $A$, tem como colunas um vetor de $1$'s e o vetor $\\mathbf{n}$. O lado direito é simplesmente $\\mathbf{c}$. Algo como:\n",
    "\n",
    "$$\\begin{bmatrix}\\mathbf{1} & \\mathbf{n}\\end{bmatrix}\\begin{bmatrix}F & \\alpha\\end{bmatrix} = \\mathbf{c}$$\n",
    "\n",
    "Bacana. Mas isso não vai dar certo. É resolver um sistema do tipo $Ax = b$ quando $x \\not \\in \\mathcal{C}(A)$. Tem linhas demais. Então vamos usar uma solução de *least squares*:\n",
    "\n",
    "$$\\hat{x} = [\\hat{F}, \\hat{\\alpha}] = (A^{T}A)^{-1}A^{T}\\mathbf{c}$$"
   ]
  },
  {
   "cell_type": "code",
   "execution_count": 29,
   "metadata": {},
   "outputs": [],
   "source": [
    "n = np.array([50, 48, 59, 56, 57, 56])\n",
    "\n",
    "c = np.array([1, 1, 1.3, 1.5, 1.7, 1.6])\n",
    "\n",
    "first_column = np.ones(np.shape(n)[0])"
   ]
  },
  {
   "cell_type": "code",
   "execution_count": 30,
   "metadata": {},
   "outputs": [
    {
     "data": {
      "text/plain": [
       "array([1., 1., 1., 1., 1., 1.])"
      ]
     },
     "execution_count": 30,
     "metadata": {},
     "output_type": "execute_result"
    }
   ],
   "source": [
    "first_column"
   ]
  },
  {
   "cell_type": "code",
   "execution_count": 31,
   "metadata": {},
   "outputs": [],
   "source": [
    "A = np.vstack((first_column, n)).T"
   ]
  },
  {
   "cell_type": "code",
   "execution_count": 32,
   "metadata": {},
   "outputs": [],
   "source": [
    "x_hat = np.linalg.inv(A.T @ A) @ A.T @ c"
   ]
  },
  {
   "cell_type": "markdown",
   "metadata": {},
   "source": [
    "Melhor aproximação linear do custo por segundo dos leilões de posição:"
   ]
  },
  {
   "cell_type": "code",
   "execution_count": 33,
   "metadata": {},
   "outputs": [
    {
     "name": "stdout",
     "output_type": "stream",
     "text": [
      "c = -1.6189285714285075 + 0.05464285714285677n\n"
     ]
    }
   ],
   "source": [
    "print(f'c = {x_hat[0]} + {x_hat[1]}n')"
   ]
  }
 ],
 "metadata": {
  "kernelspec": {
   "display_name": "Python 3",
   "language": "python",
   "name": "python3"
  },
  "language_info": {
   "codemirror_mode": {
    "name": "ipython",
    "version": 3
   },
   "file_extension": ".py",
   "mimetype": "text/x-python",
   "name": "python",
   "nbconvert_exporter": "python",
   "pygments_lexer": "ipython3",
   "version": "3.8.5"
  }
 },
 "nbformat": 4,
 "nbformat_minor": 4
}
