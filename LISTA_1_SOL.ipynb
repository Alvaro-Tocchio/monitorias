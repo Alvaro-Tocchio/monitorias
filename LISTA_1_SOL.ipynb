{
 "cells": [
  {
   "cell_type": "markdown",
   "metadata": {},
   "source": [
    "# Lista 1: Soluções"
   ]
  },
  {
   "cell_type": "markdown",
   "metadata": {},
   "source": [
    "## Problema 1 (a)"
   ]
  },
  {
   "cell_type": "code",
   "execution_count": 1,
   "metadata": {},
   "outputs": [
    {
     "data": {
      "text/plain": [
       "27.2"
      ]
     },
     "execution_count": 1,
     "metadata": {},
     "output_type": "execute_result"
    }
   ],
   "source": [
    "x = [24.75, 13.10, 85.41, 13.35, 27.20]\n",
    "y = ['CYRE3', 'ECOR3', 'CSAN3', 'CCRO3', 'BBSE3']\n",
    "\n",
    "x_c = x\n",
    "y_c = y.copy()\n",
    "\n",
    "x.pop(-1) #Removendo o último elemento de x."
   ]
  },
  {
   "cell_type": "code",
   "execution_count": 2,
   "metadata": {},
   "outputs": [
    {
     "data": {
      "text/plain": [
       "True"
      ]
     },
     "execution_count": 2,
     "metadata": {},
     "output_type": "execute_result"
    }
   ],
   "source": [
    "x_c == x"
   ]
  },
  {
   "cell_type": "code",
   "execution_count": 3,
   "metadata": {},
   "outputs": [
    {
     "data": {
      "text/plain": [
       "True"
      ]
     },
     "execution_count": 3,
     "metadata": {},
     "output_type": "execute_result"
    }
   ],
   "source": [
    "id(x_c) == id(x)"
   ]
  },
  {
   "cell_type": "code",
   "execution_count": 4,
   "metadata": {},
   "outputs": [
    {
     "data": {
      "text/plain": [
       "True"
      ]
     },
     "execution_count": 4,
     "metadata": {},
     "output_type": "execute_result"
    }
   ],
   "source": [
    "y_c == y"
   ]
  },
  {
   "cell_type": "code",
   "execution_count": 5,
   "metadata": {},
   "outputs": [
    {
     "data": {
      "text/plain": [
       "False"
      ]
     },
     "execution_count": 5,
     "metadata": {},
     "output_type": "execute_result"
    }
   ],
   "source": [
    "id(y_c) == id(y)"
   ]
  },
  {
   "cell_type": "markdown",
   "metadata": {},
   "source": [
    "#### Por quê?\n",
    "\n",
    "Escrevemos $a R b$ para indicar que $a$ aponta para $b$. A relação $R$ assim definida é reflexiva e transitiva.\n",
    "\n",
    "Ao aplicarmos o método `pop()`, fazemos `x` apontar para a lista [24.75, 13.10, 85.41, 13.35]. Como ainda temos `x_c` $R$ `x`, a transitividade de $R$ implica que `x_c` $R$ [24.75, 13.10, 85.41, 13.35]. Segue-se ainda que ambas as variáveis são registradas no mesmo lugar na memória.\n",
    "\n",
    "Não podemos aplicar o mesmo raciocínio para as variáveis `y` e `y_c`. De fato, `y` e `y_c` ambas apontam inicialmente para ['CYRE3', 'ECOR3', 'CSAN3', 'CCRO3', 'BBSE3'], mas não é verdade que `y_c` $R$ `y`. Assim, embora estas duas variáveis tenham o mesmo valor, elas não são registradas no mesmo lugar da memória."
   ]
  },
  {
   "cell_type": "code",
   "execution_count": 6,
   "metadata": {},
   "outputs": [
    {
     "data": {
      "text/plain": [
       "[24.75, 85.41]"
      ]
     },
     "execution_count": 6,
     "metadata": {},
     "output_type": "execute_result"
    }
   ],
   "source": [
    "x[0:5:2] #Vai do 0 ao 4, selecionando um elemento sim, outro não."
   ]
  },
  {
   "cell_type": "code",
   "execution_count": 7,
   "metadata": {},
   "outputs": [
    {
     "data": {
      "text/plain": [
       "[24.75, 13.1, 85.41]"
      ]
     },
     "execution_count": 7,
     "metadata": {},
     "output_type": "execute_result"
    }
   ],
   "source": [
    "x[-4:-1] #-1 é o último elemento, -2 é o penúltimo, etc."
   ]
  },
  {
   "cell_type": "code",
   "execution_count": 8,
   "metadata": {},
   "outputs": [],
   "source": [
    "y.append('BOVA11')"
   ]
  },
  {
   "cell_type": "code",
   "execution_count": 9,
   "metadata": {},
   "outputs": [
    {
     "data": {
      "text/plain": [
       "{'CYRE3': 24.75, 'ECOR3': 13.1, 'CSAN3': 85.41, 'CCRO3': 13.35}"
      ]
     },
     "execution_count": 9,
     "metadata": {},
     "output_type": "execute_result"
    }
   ],
   "source": [
    "dict(zip(y, x))"
   ]
  },
  {
   "cell_type": "markdown",
   "metadata": {},
   "source": [
    "## Problema 1 (b)"
   ]
  },
  {
   "cell_type": "code",
   "execution_count": 10,
   "metadata": {},
   "outputs": [],
   "source": [
    "notas = [\n",
    "1.52, 7.17, 7.7, 2.53, 1.28,\n",
    "5.31, 0.34, 3.15, 9.54, 0.25,\n",
    "2.36, 8.45, 4.0, 7.78, 2.47,\n",
    "6.73, 2.06, 6.41, 2.45, 6.8,\n",
    "2.56, 5.17, 6.71, 7.07, 1.84,\n",
    "5.02, 7.16, 3.24, 2.21, 6.95,\n",
    "0.27, 4.26, 7.25, 8.25, 9.38,\n",
    "1.1, 6.96, 0.58, 5.42, 8.75\n",
    "]"
   ]
  },
  {
   "cell_type": "markdown",
   "metadata": {},
   "source": [
    "Podemos usar a função `sorted()`."
   ]
  },
  {
   "cell_type": "code",
   "execution_count": 11,
   "metadata": {
    "scrolled": false
   },
   "outputs": [
    {
     "data": {
      "text/plain": [
       "[0.25,\n",
       " 0.27,\n",
       " 0.34,\n",
       " 0.58,\n",
       " 1.1,\n",
       " 1.28,\n",
       " 1.52,\n",
       " 1.84,\n",
       " 2.06,\n",
       " 2.21,\n",
       " 2.36,\n",
       " 2.45,\n",
       " 2.47,\n",
       " 2.53,\n",
       " 2.56,\n",
       " 3.15,\n",
       " 3.24,\n",
       " 4.0,\n",
       " 4.26,\n",
       " 5.02,\n",
       " 5.17,\n",
       " 5.31,\n",
       " 5.42,\n",
       " 6.41,\n",
       " 6.71,\n",
       " 6.73,\n",
       " 6.8,\n",
       " 6.95,\n",
       " 6.96,\n",
       " 7.07,\n",
       " 7.16,\n",
       " 7.17,\n",
       " 7.25,\n",
       " 7.7,\n",
       " 7.78,\n",
       " 8.25,\n",
       " 8.45,\n",
       " 8.75,\n",
       " 9.38,\n",
       " 9.54]"
      ]
     },
     "execution_count": 11,
     "metadata": {},
     "output_type": "execute_result"
    }
   ],
   "source": [
    "sorted(notas)"
   ]
  },
  {
   "cell_type": "markdown",
   "metadata": {},
   "source": [
    "Usamos a mesma função de antes (com a opção `reverse=True`)."
   ]
  },
  {
   "cell_type": "code",
   "execution_count": 12,
   "metadata": {
    "scrolled": false
   },
   "outputs": [
    {
     "data": {
      "text/plain": [
       "[9.54,\n",
       " 9.38,\n",
       " 8.75,\n",
       " 8.45,\n",
       " 8.25,\n",
       " 7.78,\n",
       " 7.7,\n",
       " 7.25,\n",
       " 7.17,\n",
       " 7.16,\n",
       " 7.07,\n",
       " 6.96,\n",
       " 6.95,\n",
       " 6.8,\n",
       " 6.73,\n",
       " 6.71,\n",
       " 6.41,\n",
       " 5.42,\n",
       " 5.31,\n",
       " 5.17,\n",
       " 5.02,\n",
       " 4.26,\n",
       " 4.0,\n",
       " 3.24,\n",
       " 3.15,\n",
       " 2.56,\n",
       " 2.53,\n",
       " 2.47,\n",
       " 2.45,\n",
       " 2.36,\n",
       " 2.21,\n",
       " 2.06,\n",
       " 1.84,\n",
       " 1.52,\n",
       " 1.28,\n",
       " 1.1,\n",
       " 0.58,\n",
       " 0.34,\n",
       " 0.27,\n",
       " 0.25]"
      ]
     },
     "execution_count": 12,
     "metadata": {},
     "output_type": "execute_result"
    }
   ],
   "source": [
    "sorted(notas, reverse=True)"
   ]
  },
  {
   "cell_type": "code",
   "execution_count": 13,
   "metadata": {},
   "outputs": [],
   "source": [
    "temp = notas.copy() #Copiando para usar o extend() depois.\n",
    "\n",
    "notas.append(6.5)\n",
    "notas.append(4.3)"
   ]
  },
  {
   "cell_type": "code",
   "execution_count": 14,
   "metadata": {},
   "outputs": [],
   "source": [
    "temp.extend([6.5, 4.3])"
   ]
  },
  {
   "cell_type": "code",
   "execution_count": 15,
   "metadata": {},
   "outputs": [
    {
     "data": {
      "text/plain": [
       "True"
      ]
     },
     "execution_count": 15,
     "metadata": {},
     "output_type": "execute_result"
    }
   ],
   "source": [
    "temp == notas"
   ]
  },
  {
   "cell_type": "code",
   "execution_count": 16,
   "metadata": {},
   "outputs": [],
   "source": [
    "m = sum(notas) / len(notas)\n",
    "\n",
    "v = sum([(x - m) ** 2 for x in notas]) / len(notas)"
   ]
  },
  {
   "cell_type": "code",
   "execution_count": 17,
   "metadata": {},
   "outputs": [
    {
     "name": "stdout",
     "output_type": "stream",
     "text": [
      "Mean = 4.744047619047619 \n",
      "Variance = 7.688047902494331\n"
     ]
    }
   ],
   "source": [
    "print(f'Mean = {m} \\nVariance = {v}')"
   ]
  },
  {
   "cell_type": "markdown",
   "metadata": {},
   "source": [
    "## Problema 1 (c)"
   ]
  },
  {
   "cell_type": "code",
   "execution_count": 18,
   "metadata": {},
   "outputs": [
    {
     "data": {
      "text/plain": [
       "[(0, 'boa'), (1, 'sorte')]"
      ]
     },
     "execution_count": 18,
     "metadata": {},
     "output_type": "execute_result"
    }
   ],
   "source": [
    "t = ('boa', 'sorte')\n",
    "list(enumerate(t))"
   ]
  },
  {
   "cell_type": "markdown",
   "metadata": {},
   "source": [
    "Posso usar: `zip()`, `range()` e `len()`."
   ]
  },
  {
   "cell_type": "code",
   "execution_count": 19,
   "metadata": {},
   "outputs": [
    {
     "data": {
      "text/plain": [
       "[(0, 'boa'), (1, 'sorte')]"
      ]
     },
     "execution_count": 19,
     "metadata": {},
     "output_type": "execute_result"
    }
   ],
   "source": [
    "list(zip(range(0, len(t)), [e for e in t]))"
   ]
  },
  {
   "cell_type": "markdown",
   "metadata": {},
   "source": [
    "## Problema 1 (d)"
   ]
  },
  {
   "cell_type": "code",
   "execution_count": 20,
   "metadata": {},
   "outputs": [],
   "source": [
    "BR = {\n",
    "    'C': 0.634,\n",
    "    'FBKF': 0.156,\n",
    "    'VAR_ESTOQUES': -0.1,\n",
    "    'G': 0.200,\n",
    "    'X': 0.126,\n",
    "    'M': -0.116\n",
    "}\n",
    "\n",
    "PIB = 3.248e12"
   ]
  },
  {
   "cell_type": "code",
   "execution_count": 21,
   "metadata": {},
   "outputs": [
    {
     "data": {
      "text/plain": [
       "{'C': 0.634,\n",
       " 'FBKF': 0.156,\n",
       " 'VAR_ESTOQUES': -0.1,\n",
       " 'G': 0.2,\n",
       " 'X': 0.126,\n",
       " 'M': -0.116}"
      ]
     },
     "execution_count": 21,
     "metadata": {},
     "output_type": "execute_result"
    }
   ],
   "source": [
    "BR"
   ]
  },
  {
   "cell_type": "code",
   "execution_count": 22,
   "metadata": {},
   "outputs": [
    {
     "name": "stdout",
     "output_type": "stream",
     "text": [
      "32479999999.999985\n"
     ]
    }
   ],
   "source": [
    "NX = (BR['X'] + BR['M']) * PIB\n",
    "print(NX)"
   ]
  },
  {
   "cell_type": "code",
   "execution_count": 23,
   "metadata": {},
   "outputs": [
    {
     "name": "stdout",
     "output_type": "stream",
     "text": [
      "0.009999999999999995\n"
     ]
    }
   ],
   "source": [
    "openness = NX / PIB\n",
    "print(openness)"
   ]
  },
  {
   "cell_type": "code",
   "execution_count": 24,
   "metadata": {},
   "outputs": [
    {
     "name": "stdout",
     "output_type": "stream",
     "text": [
      "32479999999.999985\n"
     ]
    }
   ],
   "source": [
    "NX = (BR['X'] + BR['M']) * PIB #Exportações líquidas.\n",
    "print(NX)"
   ]
  },
  {
   "cell_type": "code",
   "execution_count": 25,
   "metadata": {},
   "outputs": [
    {
     "name": "stdout",
     "output_type": "stream",
     "text": [
      "0.242\n"
     ]
    }
   ],
   "source": [
    "openness = ((BR['X'] - BR['M']) * PIB)/ (PIB)\n",
    "print(openness)"
   ]
  },
  {
   "cell_type": "markdown",
   "metadata": {},
   "source": [
    "O índice de abertura estimado pelo Banco Mundial para o Brasil em 2019 é de 0.290. Clique [aqui](https://data.worldbank.org/indicator/NE.TRD.GNFS.ZS) para mais informações. Veja que países como Coreia e Chile têm índices de 0.770 e 0.570, respectivamente."
   ]
  },
  {
   "cell_type": "markdown",
   "metadata": {},
   "source": [
    "## Problema 1 (e)"
   ]
  },
  {
   "cell_type": "markdown",
   "metadata": {},
   "source": [
    "Vejamos que $(A \\backslash B) \\cup (B \\backslash A) = (A \\cup B) \\backslash (A \\cap B)$\n",
    "\n",
    "Seja $x \\in (A \\backslash B) \\cup (B \\backslash A)$.\n",
    "\n",
    "Se $x \\in (A \\backslash B)$, então $x \\in A$. Como $A \\subset A \\cup B$, segue-se que $x \\in (A \\cup B) \\backslash (A \\cap B)$.\n",
    "\n",
    "Por outro lado, se $x \\in (B \\backslash A)$, então $x \\in B$. Como $B \\subset A \\cup B$, segue-se que que $x \\in (A \\cup B) \\backslash (A \\cap B)$.\n",
    "\n",
    "Reciprocamente, tome $x \\in (A \\cup B) \\backslash (A \\cap B)$.\n",
    "\n",
    "Primeiro caso: $x \\in A$ e $x \\not \\in A \\cap B$. Então $x \\in A \\cap (A \\cap B)^{C}  = A \\cap (A^{C} \\cup B^{C}) = A \\cap B^{C}$. Mas então temos $x \\in A$ e $x \\in B^{C}$, ou seja, $x \\in A$ e $x \\not \\in B$. Isto é o mesmo que $x \\in A \\backslash B$. Logo, temos: $x \\in (A \\backslash B) \\cup (B \\backslash A)$.\n",
    "\n",
    "O segundo caso, onde $x \\in B$ e $x \\not \\in A \\cap B$ é completamente análogo."
   ]
  },
  {
   "cell_type": "markdown",
   "metadata": {},
   "source": [
    "Agora, vejamos que vale uma lei de cancelamento para o operador de diferença simétrica.\n",
    "\n",
    "Suponhamos que $A \\Delta B = A \\Delta C$.\n",
    "\n",
    "Queremos ver que $B = C$. Como $B = (B \\cap A) \\cup (B \\backslash A)$, basta provarmos que tanto $B \\cap A$ quanto $B \\backslash A$ estão contidos em $C$.\n",
    "\n",
    "Seja $x \\in B \\backslash A$. Então $x \\in A \\Delta B  = A \\Delta C$. Se $x \\in A \\backslash C$, então como $x \\not \\in A$, vem $x \\in C$. Por outro lado, se $x \\in C \\backslash A$, é imediato que $x \\in C$. Segue-se que $B \\backslash A \\subset C$.\n",
    "\n",
    "Finalmente, tomemos $x \\in B \\cap A$. Pela proposição precedente, concluímos que $x \\not \\in A \\Delta B$. Como $A \\Delta B = A \\Delta C$ por hipótese, vem $x \\not \\in A \\Delta C$. Em particular, temos $x \\not \\in A \\backslash C$. Como $x \\in A$ por hipótese, vem $x \\in C$.\n",
    "\n",
    "Prova-se a inclusão contrária de maneira completamente análoga."
   ]
  },
  {
   "cell_type": "code",
   "execution_count": 26,
   "metadata": {},
   "outputs": [
    {
     "data": {
      "text/plain": [
       "True"
      ]
     },
     "execution_count": 26,
     "metadata": {},
     "output_type": "execute_result"
    }
   ],
   "source": [
    "E = {1, 2, 3, 4, 5, 6}\n",
    "A = {1, 2, 3}\n",
    "B = {3, 4}\n",
    "C = {2, 4}\n",
    "\n",
    "(A.difference(B)).union(B.difference(A)) == (A.union(B)).difference(A.intersection(B)) #Primeira proposição."
   ]
  },
  {
   "cell_type": "code",
   "execution_count": 27,
   "metadata": {},
   "outputs": [
    {
     "data": {
      "text/plain": [
       "True"
      ]
     },
     "execution_count": 27,
     "metadata": {},
     "output_type": "execute_result"
    }
   ],
   "source": [
    "A.symmetric_difference(B) != A.symmetric_difference(C) #Contrapositiva da segunda proposição."
   ]
  },
  {
   "cell_type": "markdown",
   "metadata": {},
   "source": [
    "## Problema 2 (a)"
   ]
  },
  {
   "cell_type": "code",
   "execution_count": 28,
   "metadata": {},
   "outputs": [
    {
     "name": "stdout",
     "output_type": "stream",
     "text": [
      "N = 134 \n",
      "Soma = 9045\n"
     ]
    }
   ],
   "source": [
    "i = 0\n",
    "total = 0\n",
    "\n",
    "while (total <= 9000):\n",
    "    i = i + 1\n",
    "    total = total + i\n",
    "    \n",
    "print(f\"N = {i} \\nSoma = {total}\")"
   ]
  },
  {
   "cell_type": "markdown",
   "metadata": {},
   "source": [
    "## Problema 2 (b)"
   ]
  },
  {
   "cell_type": "markdown",
   "metadata": {},
   "source": [
    "Dois jeitos:"
   ]
  },
  {
   "cell_type": "code",
   "execution_count": 29,
   "metadata": {},
   "outputs": [],
   "source": [
    "e = []\n",
    "\n",
    "for n in range(0, 73153):\n",
    "    if (n % 13 == 0):\n",
    "        e.append(n)"
   ]
  },
  {
   "cell_type": "code",
   "execution_count": 30,
   "metadata": {},
   "outputs": [],
   "source": [
    "mul = [n for n in range(0, 73153) if (n % 13 == 0)]"
   ]
  },
  {
   "cell_type": "code",
   "execution_count": 31,
   "metadata": {},
   "outputs": [
    {
     "data": {
      "text/plain": [
       "True"
      ]
     },
     "execution_count": 31,
     "metadata": {},
     "output_type": "execute_result"
    }
   ],
   "source": [
    "e == mul"
   ]
  },
  {
   "cell_type": "markdown",
   "metadata": {},
   "source": [
    "## Problema 2 (c)"
   ]
  },
  {
   "cell_type": "code",
   "execution_count": 32,
   "metadata": {},
   "outputs": [],
   "source": [
    "import random\n",
    "\n",
    "v = []\n",
    "i = 0\n",
    "\n",
    "while (i < 1000):\n",
    "    i = i + 1\n",
    "    v.append(random.uniform(0, 10))"
   ]
  },
  {
   "cell_type": "code",
   "execution_count": 33,
   "metadata": {},
   "outputs": [
    {
     "data": {
      "text/plain": [
       "1000"
      ]
     },
     "execution_count": 33,
     "metadata": {},
     "output_type": "execute_result"
    }
   ],
   "source": [
    "len(v)"
   ]
  },
  {
   "cell_type": "code",
   "execution_count": 34,
   "metadata": {},
   "outputs": [
    {
     "data": {
      "text/plain": [
       "3951.4483427341065"
      ]
     },
     "execution_count": 34,
     "metadata": {},
     "output_type": "execute_result"
    }
   ],
   "source": [
    "maior_que_cinco = []\n",
    "\n",
    "for obs in v:\n",
    "    if (obs > 5):\n",
    "        maior_que_cinco.append(obs)\n",
    "\n",
    "sum(maior_que_cinco)"
   ]
  },
  {
   "cell_type": "markdown",
   "metadata": {},
   "source": [
    "Observação: quão aleatórios são os números gerados? Nessa lista devemos ter aproximadamente 500 objetos."
   ]
  },
  {
   "cell_type": "code",
   "execution_count": 35,
   "metadata": {},
   "outputs": [
    {
     "data": {
      "text/plain": [
       "522"
      ]
     },
     "execution_count": 35,
     "metadata": {},
     "output_type": "execute_result"
    }
   ],
   "source": [
    "len(maior_que_cinco)"
   ]
  },
  {
   "cell_type": "markdown",
   "metadata": {},
   "source": [
    "## Problema 2 (d)"
   ]
  },
  {
   "cell_type": "code",
   "execution_count": 36,
   "metadata": {},
   "outputs": [
    {
     "data": {
      "text/plain": [
       "3951.4483427341065"
      ]
     },
     "execution_count": 36,
     "metadata": {},
     "output_type": "execute_result"
    }
   ],
   "source": [
    "sum([obs for obs in v if (obs > 5)])"
   ]
  },
  {
   "cell_type": "markdown",
   "metadata": {},
   "source": [
    "## Problema 2 (e)"
   ]
  },
  {
   "cell_type": "code",
   "execution_count": 37,
   "metadata": {},
   "outputs": [
    {
     "data": {
      "text/plain": [
       "4383.442028493322"
      ]
     },
     "execution_count": 37,
     "metadata": {},
     "output_type": "execute_result"
    }
   ],
   "source": [
    "vals = []\n",
    "\n",
    "for obs in v:\n",
    "    if (obs > 5) | (obs < 3): #Note que uso |, mas poderia ter usado `or`. Tanto faz.\n",
    "        vals.append(obs)\n",
    "        \n",
    "sum(vals)"
   ]
  },
  {
   "cell_type": "markdown",
   "metadata": {},
   "source": [
    "## Problema 2 (f)"
   ]
  },
  {
   "cell_type": "code",
   "execution_count": 38,
   "metadata": {},
   "outputs": [],
   "source": [
    "import math\n",
    "import matplotlib.pyplot as plt"
   ]
  },
  {
   "cell_type": "code",
   "execution_count": 39,
   "metadata": {},
   "outputs": [],
   "source": [
    "x = range(1, 101)"
   ]
  },
  {
   "cell_type": "code",
   "execution_count": 40,
   "metadata": {},
   "outputs": [],
   "source": [
    "logx = []\n",
    "\n",
    "for i in x:\n",
    "    logx.append(math.log(i))"
   ]
  },
  {
   "cell_type": "code",
   "execution_count": 41,
   "metadata": {},
   "outputs": [
    {
     "data": {
      "text/plain": [
       "[0.0,\n",
       " 0.6931471805599453,\n",
       " 1.0986122886681098,\n",
       " 1.3862943611198906,\n",
       " 1.6094379124341003,\n",
       " 1.791759469228055,\n",
       " 1.9459101490553132,\n",
       " 2.0794415416798357,\n",
       " 2.1972245773362196,\n",
       " 2.302585092994046,\n",
       " 2.3978952727983707,\n",
       " 2.4849066497880004,\n",
       " 2.5649493574615367,\n",
       " 2.6390573296152584,\n",
       " 2.70805020110221,\n",
       " 2.772588722239781,\n",
       " 2.833213344056216,\n",
       " 2.8903717578961645,\n",
       " 2.9444389791664403,\n",
       " 2.995732273553991,\n",
       " 3.044522437723423,\n",
       " 3.091042453358316,\n",
       " 3.1354942159291497,\n",
       " 3.1780538303479458,\n",
       " 3.2188758248682006,\n",
       " 3.258096538021482,\n",
       " 3.295836866004329,\n",
       " 3.332204510175204,\n",
       " 3.367295829986474,\n",
       " 3.4011973816621555,\n",
       " 3.4339872044851463,\n",
       " 3.4657359027997265,\n",
       " 3.4965075614664802,\n",
       " 3.5263605246161616,\n",
       " 3.5553480614894135,\n",
       " 3.58351893845611,\n",
       " 3.6109179126442243,\n",
       " 3.6375861597263857,\n",
       " 3.6635616461296463,\n",
       " 3.6888794541139363,\n",
       " 3.713572066704308,\n",
       " 3.7376696182833684,\n",
       " 3.7612001156935624,\n",
       " 3.784189633918261,\n",
       " 3.8066624897703196,\n",
       " 3.828641396489095,\n",
       " 3.8501476017100584,\n",
       " 3.871201010907891,\n",
       " 3.8918202981106265,\n",
       " 3.912023005428146,\n",
       " 3.9318256327243257,\n",
       " 3.9512437185814275,\n",
       " 3.970291913552122,\n",
       " 3.9889840465642745,\n",
       " 4.007333185232471,\n",
       " 4.02535169073515,\n",
       " 4.04305126783455,\n",
       " 4.060443010546419,\n",
       " 4.07753744390572,\n",
       " 4.0943445622221,\n",
       " 4.110873864173311,\n",
       " 4.127134385045092,\n",
       " 4.143134726391533,\n",
       " 4.1588830833596715,\n",
       " 4.174387269895637,\n",
       " 4.189654742026425,\n",
       " 4.204692619390966,\n",
       " 4.219507705176107,\n",
       " 4.23410650459726,\n",
       " 4.248495242049359,\n",
       " 4.2626798770413155,\n",
       " 4.276666119016055,\n",
       " 4.290459441148391,\n",
       " 4.30406509320417,\n",
       " 4.31748811353631,\n",
       " 4.330733340286331,\n",
       " 4.343805421853684,\n",
       " 4.356708826689592,\n",
       " 4.3694478524670215,\n",
       " 4.382026634673881,\n",
       " 4.394449154672439,\n",
       " 4.406719247264253,\n",
       " 4.418840607796598,\n",
       " 4.430816798843313,\n",
       " 4.442651256490317,\n",
       " 4.454347296253507,\n",
       " 4.465908118654584,\n",
       " 4.477336814478207,\n",
       " 4.48863636973214,\n",
       " 4.499809670330265,\n",
       " 4.51085950651685,\n",
       " 4.5217885770490405,\n",
       " 4.532599493153256,\n",
       " 4.543294782270004,\n",
       " 4.553876891600541,\n",
       " 4.564348191467836,\n",
       " 4.574710978503383,\n",
       " 4.584967478670572,\n",
       " 4.59511985013459,\n",
       " 4.605170185988092]"
      ]
     },
     "execution_count": 41,
     "metadata": {},
     "output_type": "execute_result"
    }
   ],
   "source": [
    "logx"
   ]
  },
  {
   "cell_type": "code",
   "execution_count": 42,
   "metadata": {},
   "outputs": [
    {
     "data": {
      "text/plain": [
       "[<matplotlib.lines.Line2D at 0x7fbc13442bb0>]"
      ]
     },
     "execution_count": 42,
     "metadata": {},
     "output_type": "execute_result"
    },
    {
     "data": {
      "image/png": "[encoded data removed]",
      "text/plain": [
       "<Figure size 432x288 with 1 Axes>"
      ]
     },
     "metadata": {
      "needs_background": "light"
     },
     "output_type": "display_data"
    }
   ],
   "source": [
    "plt.plot(list(x), logx)"
   ]
  },
  {
   "cell_type": "markdown",
   "metadata": {},
   "source": [
    "## Problema 2 (g)"
   ]
  },
  {
   "cell_type": "code",
   "execution_count": 43,
   "metadata": {},
   "outputs": [],
   "source": [
    "from urllib.request import urlopen\n",
    "\n",
    "shakespeare = urlopen('http://composingprograms.com/shakespeare.txt')\n",
    "\n",
    "words = set(shakespeare.read().decode().split())"
   ]
  },
  {
   "cell_type": "code",
   "execution_count": 44,
   "metadata": {},
   "outputs": [
    {
     "name": "stdout",
     "output_type": "stream",
     "text": [
      "{'honorificabilitudinitatibus', 'to-and-fro-conflicting', 'tragical-comical-historical-pastoral', 'mustachio-purple-hued', 'six-or-seven-times-honoured'}\n"
     ]
    }
   ],
   "source": [
    "twenty_or_more = {w for w in words if len(w) > 20}\n",
    "print(twenty_or_more)"
   ]
  },
  {
   "cell_type": "markdown",
   "metadata": {},
   "source": [
    "## Problema 2 (h)"
   ]
  },
  {
   "cell_type": "code",
   "execution_count": 45,
   "metadata": {},
   "outputs": [
    {
     "name": "stdout",
     "output_type": "stream",
     "text": [
      "{'redder'}\n"
     ]
    }
   ],
   "source": [
    "six_letter_palindromes = {w for w in words if w[::-1] == w and len(w) == 6}\n",
    "print(six_letter_palindromes)"
   ]
  },
  {
   "cell_type": "markdown",
   "metadata": {},
   "source": [
    "Observe que um palíndromo não é um _emordnilap_: palíndromos soletram a si mesmos quando lidos da direita para a esquerda. Já um _emordnilap_ soletra outra palavra. Em particular, todo palíndromo é um _emordnilap_.\n",
    "\n",
    "Como o texto de Shakespeare contém apenas palavras, poderíamos encontrar todos os _emordnilaps_ da seguinte maneira:"
   ]
  },
  {
   "cell_type": "code",
   "execution_count": 46,
   "metadata": {},
   "outputs": [
    {
     "name": "stdout",
     "output_type": "stream",
     "text": [
      "{'tow', 'mid', 'rap', 'tua', 'tah', 'pins', 'but', 'level', 'pat', 'pool', 'god', 'a', 'spot', 'tub', ',', 'minim', 'bob', 'gnat', 'madam', 'trow', \"'I\", 'gud', 'ben', 'sa', 'saw', 'pooh', \"'a\", '?', 'wad', 'brag', 'rail', 'raw', 'dog', 'R', 'rag', 'tips', 'garb', 'diaper', 'hap', 'stop', 'neb', '[', 'te', \"A'\", 'aut', 'non', \"'O\", 'ma', 'nun', 'pot', 'ta', 'sleek', 'maws', 'pid', 'B', 'tun', 'wort', 'V', 'ah', ';', \"I'\", 'oh', 'rat', 'bats', 'pas', 'dub', 'keels', 'draw', 'don', 'eke', 'leets', 'tap', 'deer', 'repel', 'dam', 'moor', 'star', 'stab', 'asses', 'keel', '2', 'ne', 'pah', 'peep', 'evil', 'dug', 'flow', 'refer', 'T', 'tna', 'won', 'ecce', 'wolf', 'tip', 'gib', 'IV', 'rever', 'live', 'si', 'mar', \"'A\", 'spin', 'spots', 'c', \"'T\", 'reward', 'speed', 'poop', \"O'\", 'redder', 'spit', 'II', 'daw', 'lees', 'bon', 'sub', 'gat', \"'I'\", 'doom', 'esse', 'r', 'noon', 'ere', 'h', 'door', 'no', 'dad', 'tar', 'rats', 'ut', 'new', 'tut', 'N', 'put', 'repaid', 'meed', \"T'\", 'et', 'tag', '.', 'net', 'not', 'yaw', 'drab', 'leper', 'b', 'ewe', 'H', 'meet', 'top', 'war', 'dim', 'wed', 'am', 'way', 'deed', 'liar', 'loop', 'tops', 'i', 'viv', 'bard', 'room', 'dew', \"'as\", 'par', 'pin', 's', 'stops', 'gums', 'trop', 'seel', 'd', 'M', 'III', 'smug', 'en', 'se', 'bud', 'sees', 'stink', 'snip', \"sa'\", 'hoop', 'trap', 'reed', 'C', 'mad', ':', 'is', 'p', 'j', 'nip', 'rood', 'on', 'ho', 'leek', 'did', 'swam', 'sap', 'was', 'deeps', 'hat', 'teem', 'v', 'gar', \"a'\", 'leer', 'D', 'VI', 'big', 'laid', 'I', 'wot', 'knits', 'ten', 'nob', 'bus', 'eye', 'at', 'ward', 'steel', 'gig', 'ram', 'es', 'A', 't', 'y', 'drawer', 'as', 'o', 'dip', 'now', 'pap', 'tup', 'wow', 'ha', 'e', 'O', 'tang', 'pip', 'l', 'elle', 'devil', 'lived', 'mum', 'deem', \"t'\", \"'t\", 'wen', 'mood', 'part', 'nips', 'sessa', '!', 'reel', 'pit', 'port', 'tu', 'ton', 'pots', ']', 'dial', 'nut', 'eve', 'nod', 'ant', 'G', 'u'}\n"
     ]
    }
   ],
   "source": [
    "emordnilaps = {w for w in words if w[::-1] in words}\n",
    "print(emordnilaps)"
   ]
  },
  {
   "cell_type": "markdown",
   "metadata": {},
   "source": [
    "## Problema 3 (a)"
   ]
  },
  {
   "cell_type": "code",
   "execution_count": 47,
   "metadata": {},
   "outputs": [
    {
     "name": "stdout",
     "output_type": "stream",
     "text": [
      "Funcionários devem permanecer 23 meses para valer a pena adquirir o programa.\n"
     ]
    }
   ],
   "source": [
    "cost = 100_000\n",
    "monthly_benefit = 500 * 10 #500 por funcionário, com 10 funcionários no programa.\n",
    "d = 0.99 #Taxa de desconto intertemporal.\n",
    "\n",
    "#Vale a pena quando benef. total excede custo. Aqui assumirei que benefs. se iniciam em t = 1.\n",
    "\n",
    "i = 0\n",
    "total_benefit = 0\n",
    "\n",
    "while total_benefit < cost:\n",
    "    i = i + 1\n",
    "    total_benefit = total_benefit + (monthly_benefit * d ** i)\n",
    "    \n",
    "print(f\"Funcionários devem permanecer {i} meses para valer a pena adquirir o programa.\")"
   ]
  },
  {
   "cell_type": "markdown",
   "metadata": {},
   "source": [
    "## Problema 3 (b)"
   ]
  },
  {
   "cell_type": "code",
   "execution_count": 48,
   "metadata": {},
   "outputs": [
    {
     "data": {
      "text/plain": [
       "True"
      ]
     },
     "execution_count": 48,
     "metadata": {},
     "output_type": "execute_result"
    }
   ],
   "source": [
    "#Neste exercício, vou assumir que a DM tem preferências monótonas sobre dinheiro (\"more money can't hurt\").\n",
    "\n",
    "#Vencimentos:\n",
    "\n",
    "w_hs = 26_000\n",
    "w_college = 45_000\n",
    "\n",
    "#Custos:\n",
    "cost_of_attendance = 3_000 #Anual!\n",
    "\n",
    "#Desconto:\n",
    "d = 0.95\n",
    "\n",
    "#Valor do EM:\n",
    "val_hs = sum([(d ** t) * w_hs for t in range(0, 40)])\n",
    "\n",
    "#Valor do ensino superior:\n",
    "earnings_college = [(d ** t) * w_college for t in range(4, 36)]\n",
    "cost_college = [- (d ** t) * cost_of_attendance for t in range(0, 4)]\n",
    "\n",
    "val_college = sum(cost_college + earnings_college)\n",
    "\n",
    "val_college > val_hs"
   ]
  },
  {
   "cell_type": "markdown",
   "metadata": {},
   "source": [
    "Como `val_college` excede `val_hs`, vale a pena adquirir um diploma universitário (com esta parametrização)."
   ]
  },
  {
   "cell_type": "markdown",
   "metadata": {},
   "source": [
    "## Problema 3 (c)"
   ]
  },
  {
   "cell_type": "markdown",
   "metadata": {},
   "source": [
    "**Obs.** Este exercício tinha vários erros. Fiz ele pensando em modelos comportamentais, mas parametrizei como se fosse um problema de escolha sob incerteza clássico. _Sorry_."
   ]
  },
  {
   "cell_type": "code",
   "execution_count": 49,
   "metadata": {},
   "outputs": [],
   "source": [
    "def val_gamble(realizations, probabilities):\n",
    "    \"\"\"\n",
    "    Computes the expected utility of a simple gamble\n",
    "    for a DM with a logarithmic vNM utility function.\n",
    "    \n",
    "    Parameters:\n",
    "    \n",
    "    realizations: a list of values for each realization;\n",
    "    probabilities: a list of probabilities corresponding to the realizations.\n",
    "    \"\"\"\n",
    "    return sum([math.log(v) * p for v, p in zip(realizations, probabilities)])"
   ]
  },
  {
   "cell_type": "code",
   "execution_count": 50,
   "metadata": {},
   "outputs": [
    {
     "name": "stdout",
     "output_type": "stream",
     "text": [
      "Ela deve escolher a loteria 1.\n"
     ]
    }
   ],
   "source": [
    "r1 = [100, 50, 100, 200]\n",
    "p1 = 4*[0.25]\n",
    "\n",
    "r2 = [150, 100]\n",
    "p2 = [0.50, 0.50]\n",
    "\n",
    "r3 = [1, 350]\n",
    "p3 = [0.50, 0.50]\n",
    "\n",
    "r4 = [50]\n",
    "p4 = [1]\n",
    "\n",
    "reals = [r1, r2, r3, r4]\n",
    "probs = [p1, p2, p3, p4]\n",
    "\n",
    "vals = [val_gamble(r, p) for r, p in zip(reals, probs)]\n",
    "\n",
    "print(f\"Ela deve escolher a loteria {max(range(len(vals)), key=vals.__getitem__)}.\")"
   ]
  },
  {
   "cell_type": "markdown",
   "metadata": {},
   "source": [
    "## Problema 4 (a)"
   ]
  },
  {
   "cell_type": "markdown",
   "metadata": {},
   "source": [
    "Nesses exercícios, não vou fazer docstrings pras funções, mas lembrem-se de que é sempre boa prática fazê-las."
   ]
  },
  {
   "cell_type": "code",
   "execution_count": 51,
   "metadata": {},
   "outputs": [],
   "source": [
    "def heron(p, g=1.0, eps=1e-4):\n",
    "    while abs(g*g - p) > eps:\n",
    "        g = 0.5 * (g + p/g)\n",
    "        \n",
    "    print(f\"A raiz de p é aproximadamente {g}.\")"
   ]
  },
  {
   "cell_type": "code",
   "execution_count": 52,
   "metadata": {},
   "outputs": [
    {
     "name": "stdout",
     "output_type": "stream",
     "text": [
      "A raiz de p é aproximadamente 32.0000000000008.\n"
     ]
    }
   ],
   "source": [
    "heron(1024)"
   ]
  },
  {
   "cell_type": "markdown",
   "metadata": {},
   "source": [
    "## Problema 4 (b)"
   ]
  },
  {
   "cell_type": "code",
   "execution_count": 53,
   "metadata": {},
   "outputs": [],
   "source": [
    "def collatz(n):\n",
    "    \n",
    "    orbit = []\n",
    "    \n",
    "    while n != 1:\n",
    "        \n",
    "        if (n % 2 == 0):\n",
    "            \n",
    "            n = n/2\n",
    "            \n",
    "        else:\n",
    "            \n",
    "            n = 3*n + 1\n",
    "            \n",
    "        orbit.append(n)\n",
    "        \n",
    "    return n"
   ]
  },
  {
   "cell_type": "markdown",
   "metadata": {},
   "source": [
    "Se quiser ver a sequência das iteradas, basta pedir pra função retornar uma lista com `orbit` e `n`, ao invés de pedir só o `n`."
   ]
  },
  {
   "cell_type": "code",
   "execution_count": 54,
   "metadata": {},
   "outputs": [
    {
     "data": {
      "text/plain": [
       "1.0"
      ]
     },
     "execution_count": 54,
     "metadata": {},
     "output_type": "execute_result"
    }
   ],
   "source": [
    "collatz(3289537986584438959560543827685690706)"
   ]
  },
  {
   "cell_type": "markdown",
   "metadata": {},
   "source": [
    "## Problema 4 (c)"
   ]
  },
  {
   "cell_type": "code",
   "execution_count": 55,
   "metadata": {},
   "outputs": [],
   "source": [
    "def divisible(n, k):\n",
    "    if (n % k == 0):\n",
    "        return True\n",
    "    else:\n",
    "        return False"
   ]
  },
  {
   "cell_type": "code",
   "execution_count": 56,
   "metadata": {},
   "outputs": [
    {
     "data": {
      "text/plain": [
       "False"
      ]
     },
     "execution_count": 56,
     "metadata": {},
     "output_type": "execute_result"
    }
   ],
   "source": [
    "divisible(395864759345605962402357893, 3)"
   ]
  },
  {
   "cell_type": "code",
   "execution_count": 57,
   "metadata": {},
   "outputs": [
    {
     "data": {
      "text/plain": [
       "True"
      ]
     },
     "execution_count": 57,
     "metadata": {},
     "output_type": "execute_result"
    }
   ],
   "source": [
    "divisible(1024, 8)"
   ]
  },
  {
   "cell_type": "markdown",
   "metadata": {},
   "source": [
    "## Problema 4 (d)"
   ]
  },
  {
   "cell_type": "code",
   "execution_count": 58,
   "metadata": {},
   "outputs": [],
   "source": [
    "def is_prime(n):\n",
    "    if (n == 1):\n",
    "        return False\n",
    "    elif (n == 2):\n",
    "        return True\n",
    "    else:\n",
    "        for k in range(2, n):\n",
    "            if (n % k == 0):\n",
    "                return False\n",
    "        return True"
   ]
  },
  {
   "cell_type": "code",
   "execution_count": 59,
   "metadata": {
    "scrolled": true
   },
   "outputs": [
    {
     "data": {
      "text/plain": [
       "[(1, False),\n",
       " (2, True),\n",
       " (3, True),\n",
       " (4, False),\n",
       " (5, True),\n",
       " (6, False),\n",
       " (7, True),\n",
       " (8, False),\n",
       " (9, False),\n",
       " (10, False),\n",
       " (11, True),\n",
       " (12, False),\n",
       " (13, True),\n",
       " (14, False),\n",
       " (15, False),\n",
       " (16, False),\n",
       " (17, True),\n",
       " (18, False),\n",
       " (19, True),\n",
       " (20, False),\n",
       " (21, False),\n",
       " (22, False),\n",
       " (23, True),\n",
       " (24, False),\n",
       " (25, False),\n",
       " (26, False),\n",
       " (27, False),\n",
       " (28, False),\n",
       " (29, True),\n",
       " (30, False),\n",
       " (31, True),\n",
       " (32, False),\n",
       " (33, False),\n",
       " (34, False),\n",
       " (35, False),\n",
       " (36, False),\n",
       " (37, True),\n",
       " (38, False),\n",
       " (39, False),\n",
       " (40, False),\n",
       " (41, True),\n",
       " (42, False),\n",
       " (43, True),\n",
       " (44, False),\n",
       " (45, False),\n",
       " (46, False),\n",
       " (47, True),\n",
       " (48, False),\n",
       " (49, False),\n",
       " (50, False),\n",
       " (51, False),\n",
       " (52, False),\n",
       " (53, True),\n",
       " (54, False),\n",
       " (55, False),\n",
       " (56, False),\n",
       " (57, False),\n",
       " (58, False),\n",
       " (59, True),\n",
       " (60, False),\n",
       " (61, True),\n",
       " (62, False),\n",
       " (63, False),\n",
       " (64, False),\n",
       " (65, False),\n",
       " (66, False),\n",
       " (67, True),\n",
       " (68, False),\n",
       " (69, False),\n",
       " (70, False),\n",
       " (71, True),\n",
       " (72, False),\n",
       " (73, True),\n",
       " (74, False),\n",
       " (75, False),\n",
       " (76, False),\n",
       " (77, False),\n",
       " (78, False),\n",
       " (79, True),\n",
       " (80, False),\n",
       " (81, False),\n",
       " (82, False),\n",
       " (83, True),\n",
       " (84, False),\n",
       " (85, False),\n",
       " (86, False),\n",
       " (87, False),\n",
       " (88, False),\n",
       " (89, True),\n",
       " (90, False),\n",
       " (91, False),\n",
       " (92, False),\n",
       " (93, False),\n",
       " (94, False),\n",
       " (95, False),\n",
       " (96, False),\n",
       " (97, True),\n",
       " (98, False),\n",
       " (99, False)]"
      ]
     },
     "execution_count": 59,
     "metadata": {},
     "output_type": "execute_result"
    }
   ],
   "source": [
    "[(n, is_prime(n)) for n in range(1, 100)]"
   ]
  },
  {
   "cell_type": "markdown",
   "metadata": {},
   "source": [
    "## Problema 4 (e)"
   ]
  },
  {
   "cell_type": "code",
   "execution_count": 60,
   "metadata": {},
   "outputs": [],
   "source": [
    "def fact(n):\n",
    "    \n",
    "    if (n == 0):\n",
    "        return 1\n",
    "    else:\n",
    "        return n * fact(n-1)"
   ]
  },
  {
   "cell_type": "code",
   "execution_count": 61,
   "metadata": {},
   "outputs": [
    {
     "data": {
      "text/plain": [
       "720"
      ]
     },
     "execution_count": 61,
     "metadata": {},
     "output_type": "execute_result"
    }
   ],
   "source": [
    "fact(6)"
   ]
  },
  {
   "cell_type": "markdown",
   "metadata": {},
   "source": [
    "## Problema 4 (f)"
   ]
  },
  {
   "cell_type": "code",
   "execution_count": 62,
   "metadata": {},
   "outputs": [],
   "source": [
    "def binom(n, k):\n",
    "    \n",
    "    num = fact(n)\n",
    "    den = fact(n-k) * fact(k)\n",
    "    \n",
    "    return num / den"
   ]
  },
  {
   "cell_type": "code",
   "execution_count": 63,
   "metadata": {},
   "outputs": [
    {
     "data": {
      "text/plain": [
       "True"
      ]
     },
     "execution_count": 63,
     "metadata": {},
     "output_type": "execute_result"
    }
   ],
   "source": [
    "binom(10,4) == binom(10, 6)"
   ]
  },
  {
   "cell_type": "code",
   "execution_count": 64,
   "metadata": {},
   "outputs": [
    {
     "data": {
      "text/plain": [
       "[<matplotlib.lines.Line2D at 0x7fbc125a4a60>]"
      ]
     },
     "execution_count": 64,
     "metadata": {},
     "output_type": "execute_result"
    },
    {
     "data": {
      "image/png": "[encoded data removed]",
      "text/plain": [
       "<Figure size 432x288 with 1 Axes>"
      ]
     },
     "metadata": {
      "needs_background": "light"
     },
     "output_type": "display_data"
    }
   ],
   "source": [
    "n = 10*[10]\n",
    "k = list(range(1, 11))\n",
    "\n",
    "vals = [binom(n, k) for n, k in zip(n, k)]\n",
    "\n",
    "plt.plot(k, vals)"
   ]
  },
  {
   "cell_type": "markdown",
   "metadata": {},
   "source": [
    "## Problema 4 (g)"
   ]
  },
  {
   "cell_type": "code",
   "execution_count": 65,
   "metadata": {},
   "outputs": [],
   "source": [
    "import datetime"
   ]
  },
  {
   "cell_type": "code",
   "execution_count": 66,
   "metadata": {},
   "outputs": [],
   "source": [
    "def afternoon():\n",
    "    t = datetime.datetime.now()\n",
    "    if ((t.hour == 12) and (t.minute >= 1)) or ((t.hour) > 12):\n",
    "        print(\"Boa tarde!\")\n",
    "    else:\n",
    "        print(\"Ainda falta muito pro dia acabar...\")"
   ]
  },
  {
   "cell_type": "code",
   "execution_count": 67,
   "metadata": {},
   "outputs": [
    {
     "name": "stdout",
     "output_type": "stream",
     "text": [
      "Boa tarde!\n"
     ]
    }
   ],
   "source": [
    "afternoon()"
   ]
  }
 ],
 "metadata": {
  "kernelspec": {
   "display_name": "Python 3",
   "language": "python",
   "name": "python3"
  },
  "language_info": {
   "codemirror_mode": {
    "name": "ipython",
    "version": 3
   },
   "file_extension": ".py",
   "mimetype": "text/x-python",
   "name": "python",
   "nbconvert_exporter": "python",
   "pygments_lexer": "ipython3",
   "version": "3.8.3"
  }
 },
 "nbformat": 4,
 "nbformat_minor": 4
}
